{
  "cells": [
    {
      "cell_type": "markdown",
      "id": "c433ef8b",
      "metadata": {
        "id": "c433ef8b"
      },
      "source": [
        "# THEORY - CNN Example Extra Material\n",
        "\n",
        "In this notebook you will find an example on how to run the Keras Resnet50 model, used in the **Sprint Project 03** to deploy your first Machine Learning model using Flask, Docker and Microservices architecture.\n",
        "\n",
        "Don't worry about the details at this point, you can use the model as a black box in which you can put images and get predictions back about what kind of object is in the picture. We will see how these kind of models work in detail soon.\n"
      ]
    },
    {
      "cell_type": "code",
      "execution_count": null,
      "id": "13d6fb26",
      "metadata": {
        "colab": {
          "base_uri": "https://localhost:8080/"
        },
        "id": "13d6fb26",
        "outputId": "d1ce9196-db19-4c2c-fd2f-4a44ce991630",
        "scrolled": true
      },
      "outputs": [
        {
          "ename": "",
          "evalue": "",
          "output_type": "error",
          "traceback": [
            "\u001b[1;31mRunning cells with '/bin/python3' requires the ipykernel package.\n",
            "\u001b[1;31mRun the following command to install 'ipykernel' into the Python environment. \n",
            "\u001b[1;31mCommand: '/bin/python3 -m pip install ipykernel -U --user --force-reinstall'"
          ]
        }
      ],
      "source": [
        "# Install required libraries (if needed)\n",
        "!pip install tensorflow==2.8.0"
      ]
    },
    {
      "cell_type": "code",
      "execution_count": null,
      "id": "867d3e56",
      "metadata": {
        "id": "867d3e56"
      },
      "outputs": [
        {
          "ename": "",
          "evalue": "",
          "output_type": "error",
          "traceback": [
            "\u001b[1;31mRunning cells with '/bin/python3' requires the ipykernel package.\n",
            "\u001b[1;31mRun the following command to install 'ipykernel' into the Python environment. \n",
            "\u001b[1;31mCommand: '/bin/python3 -m pip install ipykernel -U --user --force-reinstall'"
          ]
        }
      ],
      "source": [
        "# Import libraries\n",
        "from tensorflow.keras.applications import resnet50\n",
        "from tensorflow.keras.preprocessing import image\n",
        "\n",
        "import matplotlib.pyplot as plt\n",
        "import numpy as np\n"
      ]
    },
    {
      "cell_type": "markdown",
      "id": "8145e688",
      "metadata": {
        "id": "8145e688"
      },
      "source": [
        "## Step 1 - Load the model"
      ]
    },
    {
      "cell_type": "code",
      "execution_count": null,
      "id": "05631fbf",
      "metadata": {
        "colab": {
          "base_uri": "https://localhost:8080/"
        },
        "id": "05631fbf",
        "outputId": "d190ce53-ade8-4e34-8e83-de3cca35f9c3"
      },
      "outputs": [
        {
          "ename": "",
          "evalue": "",
          "output_type": "error",
          "traceback": [
            "\u001b[1;31mRunning cells with '/bin/python3' requires the ipykernel package.\n",
            "\u001b[1;31mRun the following command to install 'ipykernel' into the Python environment. \n",
            "\u001b[1;31mCommand: '/bin/python3 -m pip install ipykernel -U --user --force-reinstall'"
          ]
        }
      ],
      "source": [
        "# For loading the right model, please use the following code\n",
        "model = resnet50.ResNet50(include_top=True, weights=\"imagenet\")\n",
        "model.summary()\n"
      ]
    },
    {
      "cell_type": "markdown",
      "id": "abf1bc08",
      "metadata": {
        "id": "abf1bc08"
      },
      "source": [
        "## Step 2 - Load some image to get predictions"
      ]
    },
    {
      "cell_type": "code",
      "execution_count": null,
      "id": "6f5a1120",
      "metadata": {
        "colab": {
          "base_uri": "https://localhost:8080/"
        },
        "id": "6f5a1120",
        "outputId": "01fa226d-2a42-49cf-e659-b9268e5f2025"
      },
      "outputs": [
        {
          "ename": "",
          "evalue": "",
          "output_type": "error",
          "traceback": [
            "\u001b[1;31mRunning cells with '/bin/python3' requires the ipykernel package.\n",
            "\u001b[1;31mRun the following command to install 'ipykernel' into the Python environment. \n",
            "\u001b[1;31mCommand: '/bin/python3 -m pip install ipykernel -U --user --force-reinstall'"
          ]
        }
      ],
      "source": [
        "# We will download this image for now\n",
        "# You can use your own pictures if you want\n",
        "!wget -O \"pipa.jpg\" \"https://raw.githubusercontent.com/anyoneai/notebooks/main/datasets/pipa.jpg\""
      ]
    },
    {
      "cell_type": "code",
      "execution_count": null,
      "id": "9ff5808f",
      "metadata": {
        "colab": {
          "base_uri": "https://localhost:8080/",
          "height": 451
        },
        "id": "9ff5808f",
        "outputId": "5f58ced5-754a-447d-9e10-6035a80268ef"
      },
      "outputs": [
        {
          "ename": "",
          "evalue": "",
          "output_type": "error",
          "traceback": [
            "\u001b[1;31mRunning cells with '/bin/python3' requires the ipykernel package.\n",
            "\u001b[1;31mRun the following command to install 'ipykernel' into the Python environment. \n",
            "\u001b[1;31mCommand: '/bin/python3 -m pip install ipykernel -U --user --force-reinstall'"
          ]
        }
      ],
      "source": [
        "# Now it's time to load the image\n",
        "# We will use `image` module from tensorflow.keras\n",
        "# We also need to change the image to the input image size\n",
        "# the Resnet50 model is expecting, in this case (224, 224).\n",
        "img = image.load_img('pipa.jpg', target_size=(224, 224))\n",
        "plt.imshow(img)\n"
      ]
    },
    {
      "cell_type": "code",
      "execution_count": null,
      "id": "cab82c52",
      "metadata": {
        "colab": {
          "base_uri": "https://localhost:8080/"
        },
        "id": "cab82c52",
        "outputId": "c0d4722d-64bd-470e-beca-373484bc9b9f"
      },
      "outputs": [
        {
          "ename": "",
          "evalue": "",
          "output_type": "error",
          "traceback": [
            "\u001b[1;31mRunning cells with '/bin/python3' requires the ipykernel package.\n",
            "\u001b[1;31mRun the following command to install 'ipykernel' into the Python environment. \n",
            "\u001b[1;31mCommand: '/bin/python3 -m pip install ipykernel -U --user --force-reinstall'"
          ]
        }
      ],
      "source": [
        "# We are using Pillow (PIL) library to load images\n",
        "type(img)"
      ]
    },
    {
      "cell_type": "markdown",
      "id": "9e2fbf14",
      "metadata": {
        "id": "9e2fbf14",
        "outputId": "8f04bafb-1aff-47c6-e510-256a53e861d4",
        "scrolled": true
      },
      "source": [
        "## 3 - Preprocess the image"
      ]
    },
    {
      "cell_type": "code",
      "execution_count": null,
      "id": "43695c51",
      "metadata": {
        "id": "43695c51"
      },
      "outputs": [
        {
          "ename": "",
          "evalue": "",
          "output_type": "error",
          "traceback": [
            "\u001b[1;31mRunning cells with '/bin/python3' requires the ipykernel package.\n",
            "\u001b[1;31mRun the following command to install 'ipykernel' into the Python environment. \n",
            "\u001b[1;31mCommand: '/bin/python3 -m pip install ipykernel -U --user --force-reinstall'"
          ]
        }
      ],
      "source": [
        "# We need to convert the PIL image to a Numpy\n",
        "# array before sending it to the model\n",
        "x = image.img_to_array(img)\n",
        "x.shape\n",
        "\n",
        "# Also we must add an extra dimension to this array\n",
        "# because our model is expecting as input a batch of images.\n",
        "# In this particular case, we will have a batch with a single\n",
        "# image inside\n",
        "x_batch = np.expand_dims(x, axis=0)\n",
        "x_batch.shape\n",
        "\n",
        "\n",
        "# Now we must scale pixels values\n",
        "x_batch = resnet50.preprocess_input(x_batch)\n",
        "\n"
      ]
    },
    {
      "cell_type": "code",
      "execution_count": null,
      "id": "PrSiKR0i8pHK",
      "metadata": {
        "colab": {
          "base_uri": "https://localhost:8080/"
        },
        "id": "PrSiKR0i8pHK",
        "outputId": "c43a346a-2e8f-415a-a278-d9d4c421afc8"
      },
      "outputs": [
        {
          "ename": "",
          "evalue": "",
          "output_type": "error",
          "traceback": [
            "\u001b[1;31mRunning cells with '/bin/python3' requires the ipykernel package.\n",
            "\u001b[1;31mRun the following command to install 'ipykernel' into the Python environment. \n",
            "\u001b[1;31mCommand: '/bin/python3 -m pip install ipykernel -U --user --force-reinstall'"
          ]
        }
      ],
      "source": [
        "batch = np.array([x for _ in range(256)])\n",
        "x_batch = resnet50.preprocess_input(batch)\n",
        "x_batch.shape"
      ]
    },
    {
      "cell_type": "code",
      "execution_count": null,
      "id": "X5mit2iO9aaA",
      "metadata": {
        "colab": {
          "base_uri": "https://localhost:8080/"
        },
        "id": "X5mit2iO9aaA",
        "outputId": "3ac5de10-b5d6-4e80-a078-e0051a059441"
      },
      "outputs": [
        {
          "ename": "",
          "evalue": "",
          "output_type": "error",
          "traceback": [
            "\u001b[1;31mRunning cells with '/bin/python3' requires the ipykernel package.\n",
            "\u001b[1;31mRun the following command to install 'ipykernel' into the Python environment. \n",
            "\u001b[1;31mCommand: '/bin/python3 -m pip install ipykernel -U --user --force-reinstall'"
          ]
        }
      ],
      "source": [
        "%%time\n",
        "model.predict(x_batch, batch_size=256)"
      ]
    },
    {
      "cell_type": "code",
      "execution_count": null,
      "id": "v1jJ8dBi80be",
      "metadata": {
        "colab": {
          "base_uri": "https://localhost:8080/"
        },
        "id": "v1jJ8dBi80be",
        "outputId": "8e0bcb35-b208-402d-98e9-04bce21c1f97"
      },
      "outputs": [
        {
          "ename": "",
          "evalue": "",
          "output_type": "error",
          "traceback": [
            "\u001b[1;31mRunning cells with '/bin/python3' requires the ipykernel package.\n",
            "\u001b[1;31mRun the following command to install 'ipykernel' into the Python environment. \n",
            "\u001b[1;31mCommand: '/bin/python3 -m pip install ipykernel -U --user --force-reinstall'"
          ]
        }
      ],
      "source": [
        "from time import time\n",
        "\n",
        "for batch_size in range(8, 256, 16):\n",
        "    st = time()\n",
        "    model.predict(x_batch, batch_size=batch_size)\n",
        "    print(f\"Batch {batch_size} took {time() - st}\")\n"
      ]
    },
    {
      "cell_type": "code",
      "execution_count": null,
      "id": "iNg8gj2O-N8k",
      "metadata": {
        "id": "iNg8gj2O-N8k"
      },
      "outputs": [
        {
          "ename": "",
          "evalue": "",
          "output_type": "error",
          "traceback": [
            "\u001b[1;31mRunning cells with '/bin/python3' requires the ipykernel package.\n",
            "\u001b[1;31mRun the following command to install 'ipykernel' into the Python environment. \n",
            "\u001b[1;31mCommand: '/bin/python3 -m pip install ipykernel -U --user --force-reinstall'"
          ]
        }
      ],
      "source": [
        "model.predict?"
      ]
    },
    {
      "cell_type": "markdown",
      "id": "a39ab309",
      "metadata": {
        "id": "a39ab309"
      },
      "source": [
        "## 4 - Finally, let's get some predictions"
      ]
    },
    {
      "cell_type": "code",
      "execution_count": null,
      "id": "66708315",
      "metadata": {
        "colab": {
          "base_uri": "https://localhost:8080/"
        },
        "id": "66708315",
        "outputId": "95680f05-3061-4396-9727-e653379a0fa4"
      },
      "outputs": [
        {
          "ename": "",
          "evalue": "",
          "output_type": "error",
          "traceback": [
            "\u001b[1;31mRunning cells with '/bin/python3' requires the ipykernel package.\n",
            "\u001b[1;31mRun the following command to install 'ipykernel' into the Python environment. \n",
            "\u001b[1;31mCommand: '/bin/python3 -m pip install ipykernel -U --user --force-reinstall'"
          ]
        }
      ],
      "source": [
        "# Run model on batch of images\n",
        "preds = model.predict(x_batch)\n",
        "preds"
      ]
    },
    {
      "cell_type": "code",
      "execution_count": null,
      "id": "a21529a6",
      "metadata": {
        "colab": {
          "base_uri": "https://localhost:8080/"
        },
        "id": "a21529a6",
        "outputId": "5f1e1521-5af0-4182-c923-9fca574f5998"
      },
      "outputs": [
        {
          "ename": "",
          "evalue": "",
          "output_type": "error",
          "traceback": [
            "\u001b[1;31mRunning cells with '/bin/python3' requires the ipykernel package.\n",
            "\u001b[1;31mRun the following command to install 'ipykernel' into the Python environment. \n",
            "\u001b[1;31mCommand: '/bin/python3 -m pip install ipykernel -U --user --force-reinstall'"
          ]
        }
      ],
      "source": [
        "# We have as output an array with\n",
        "# probability scores for each class.\n",
        "# The corresponding labels are from Imagenet dataset.\n",
        "preds.shape\n",
        "\n",
        "print(preds[0,preds.argmax()])"
      ]
    },
    {
      "cell_type": "code",
      "execution_count": null,
      "id": "02b46696",
      "metadata": {
        "colab": {
          "base_uri": "https://localhost:8080/"
        },
        "id": "02b46696",
        "outputId": "191a4ff0-c0a9-408b-fe2e-b86171fe3c9f"
      },
      "outputs": [
        {
          "ename": "",
          "evalue": "",
          "output_type": "error",
          "traceback": [
            "\u001b[1;31mRunning cells with '/bin/python3' requires the ipykernel package.\n",
            "\u001b[1;31mRun the following command to install 'ipykernel' into the Python environment. \n",
            "\u001b[1;31mCommand: '/bin/python3 -m pip install ipykernel -U --user --force-reinstall'"
          ]
        }
      ],
      "source": [
        "# We can get and print the predicted label\n",
        "# with the highest probability\n",
        "resnet50.decode_predictions(preds, top=10)\n"
      ]
    },
    {
      "cell_type": "markdown",
      "id": "63132382",
      "metadata": {
        "id": "63132382"
      },
      "source": [
        "### Let's see the prediction data in detail:\n",
        "\n",
        "- **'n02108551'** is a class Id taken from Imagenet dataset.\n",
        "- **'Tibetan_mastiff'** is the predicted label from Imagenet.\n",
        "- **0.9666902** is the confidence score from our model.\n"
      ]
    },
    {
      "cell_type": "code",
      "execution_count": null,
      "id": "7816a225",
      "metadata": {
        "colab": {
          "base_uri": "https://localhost:8080/"
        },
        "id": "7816a225",
        "outputId": "012279ad-d84e-441b-e33d-949b29acf3ae"
      },
      "outputs": [
        {
          "ename": "",
          "evalue": "",
          "output_type": "error",
          "traceback": [
            "\u001b[1;31mRunning cells with '/bin/python3' requires the ipykernel package.\n",
            "\u001b[1;31mRun the following command to install 'ipykernel' into the Python environment. \n",
            "\u001b[1;31mCommand: '/bin/python3 -m pip install ipykernel -U --user --force-reinstall'"
          ]
        }
      ],
      "source": [
        "# We can also get and print the top-5 predicted labels\n",
        "# with the highest probabilities\n",
        "resnet50.decode_predictions(preds, top=5)\n"
      ]
    },
    {
      "cell_type": "code",
      "execution_count": null,
      "id": "f412e373",
      "metadata": {
        "id": "f412e373"
      },
      "outputs": [
        {
          "ename": "",
          "evalue": "",
          "output_type": "error",
          "traceback": [
            "\u001b[1;31mRunning cells with '/bin/python3' requires the ipykernel package.\n",
            "\u001b[1;31mRun the following command to install 'ipykernel' into the Python environment. \n",
            "\u001b[1;31mCommand: '/bin/python3 -m pip install ipykernel -U --user --force-reinstall'"
          ]
        }
      ],
      "source": []
    }
  ],
  "metadata": {
    "accelerator": "GPU",
    "colab": {
      "gpuType": "T4",
      "provenance": []
    },
    "kernelspec": {
      "display_name": "Python 3",
      "name": "python3"
    },
    "language_info": {
      "codemirror_mode": {
        "name": "ipython",
        "version": 3
      },
      "file_extension": ".py",
      "mimetype": "text/x-python",
      "name": "python",
      "nbconvert_exporter": "python",
      "pygments_lexer": "ipython3",
      "version": "3.10.12"
    }
  },
  "nbformat": 4,
  "nbformat_minor": 5
}
