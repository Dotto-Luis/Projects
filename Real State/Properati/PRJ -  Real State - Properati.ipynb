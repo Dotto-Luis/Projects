{
 "cells": [
  {
   "cell_type": "markdown",
   "metadata": {
    "tags": []
   },
   "source": [
    "<a href=\"https://colab.research.google.com/drive/1O6_a3Dvvgw3Yvctq696dLATtR5gAQrRJ\" target=\"_parent\"><img src=\"https://colab.research.google.com/assets/colab-badge.svg\" alt=\"Open In Colab\"/></a>"
   ]
  },
  {
   "cell_type": "markdown",
   "metadata": {},
   "source": [
    "<h1 style=\"text-align: center;\">Real State - Properarti\n",
    "</h1>"
   ]
  },
  {
   "cell_type": "markdown",
   "metadata": {
    "colab_type": "text",
    "id": "38tA-ErIC4OD"
   },
   "source": [
    "<img \n",
    "    style=\"display: block; \n",
    "           margin-left: auto;\n",
    "           margin-right: auto;\n",
    "           width: 70%;\"\n",
    "    src=\"http://flowinsurance.com/wp-content/uploads/2018/10/Real-Estate-Investing.jpg\" \n",
    "    alt=\"Our logo\">\n",
    "</img>"
   ]
  },
  {
   "cell_type": "markdown",
   "metadata": {
    "ExecuteTime": {
     "end_time": "2020-10-03T16:38:50.256411Z",
     "start_time": "2020-10-03T16:38:50.250466Z"
    }
   },
   "source": [
    "<a id='contents' />\n",
    "\n",
    "## 📚 Contents\n",
    "\n",
    "* [1 - BUSINESS UNDERSTANDING](#pensando)\n",
    "   * [1.1 - Determinate business question and objetive](#bu11)\n",
    "   * [1.2 - Situation assessment](#bu12)\n",
    "   * [1.3 - Determine the project goals](#bu13)    \n",
    "   * [1.4 - Project plan](#bu14)    \n",
    "\n",
    "\n",
    "* [2 - DATA UNDERSTANDING](#eda)\n",
    "    * [2.1 - Collect data](#du21)\n",
    "    * [2.2 - Describe data](#du22)\n",
    "    * [2.3 - Explore data](#du23)\n",
    "    * [2.4 - Verify data quality](#du24)\n",
    "\n",
    "\n",
    "\n",
    "* [3 - DATA PREPARATION](#ml)\n",
    "    * [3.1 - Data selection](#dp31)\n",
    "    * [3.2 - Data cleaning](#dp32)\n",
    "    * [3.3 - Feature engineering](#dp33)\n",
    "    * [3.4 - Data integration](#dp34)\n",
    "    * [3.5 - Data formatting](#dp35)\n",
    "\n",
    "\n",
    "* [4 - MODELING](#conclusiones)\n",
    "    * [4.1 - Model selection](#m41)\n",
    "    * [4.2 - Test desing](#m42)\n",
    "    * [4.3 - Model development](#m43)\n",
    "    * [4.4 - Model assessment](#m44)\n",
    "\n",
    "\n",
    "* [5 - EVALUATION](#evaluation)\n",
    "    * [5.1 - Evaluate results](#e51)\n",
    "    * [5.2 - Review process](#e52)\n",
    "    * [5.3 - Determine next steps](#e53)\n",
    "\n",
    "\n",
    "* [6 - DEPLOYMENT](#deployment)\n",
    "    * [6.1 - Deployment](#d61)\n",
    "    * [6.2 - Monitoring and maintenance](#d62)\n",
    "    * [6.3 - Final report](#d63)\n",
    "    * [6.4 - Review](#d64)"
   ]
  },
  {
   "cell_type": "markdown",
   "metadata": {},
   "source": [
    "___"
   ]
  },
  {
   "cell_type": "markdown",
   "metadata": {
    "ExecuteTime": {
     "end_time": "2020-10-03T16:40:42.562435Z",
     "start_time": "2020-10-03T16:40:42.556456Z"
    },
    "tags": []
   },
   "source": [
    "<a id='pensando' />\n",
    "\n",
    "# 1. Business Understanding ⁉️\n",
    "[(back to top)](#contents)"
   ]
  },
  {
   "cell_type": "markdown",
   "metadata": {},
   "source": [
    "### Contexto\n",
    "\n",
    "Hay que tener en cuenta que el real estate comprende tanto los terrenos, como la edificaciones, los recursos naturales y otras mejoras que se encuentren en la propiedad. Por lo tanto, real estate se utiliza para referirse a todas las actividades relacionadas con la compraventa de activos inmobiliarios.\n",
    "\n",
    "\n",
    "Además, es posible distinguir entre 3 categorías de real estate:\n",
    "\n",
    "- Residencial: incluye las tierras sin construir, las casas, los condominios, etc.\n",
    "\n",
    "- Comercial: incluye estructuras no residenciales como las oficinas, los almacenes o los centros logísticos, es decir propiedades que producen ingresos.\n",
    "\n",
    "- Industrial: incluye fábricas, parques empresariales, granjas o minas. Por lo general, éstas son las propiedades que tienen una mayor extensión.\n",
    "\n",
    "En resumen, se prevé que el sector del real estate seguirá evolucionando, tal y como lleva haciendo desde hace siglos, para dar respuesta a las necesidades cambiantes de la sociedad.\n",
    "\n",
    "\n",
    "Recientemente te has incorporado al equipo de Datos de una gran inmobiliaria. La primera tarea que se te asigna es ayudar a los tasadores/as de Buenos Aires a valuar las propiedades, ya que es un proceso difícil y, a veces, subjetivo. Para ello, propones crear un modelo de Machine Learning que, dadas ciertas características de la propiedad, prediga su precio de venta.\n",
    "\n",
    "En el presente proyecto se toma utilizan datasets de la empresa [Properati](www.properati.com.ar)\n"
   ]
  },
  {
   "cell_type": "markdown",
   "metadata": {},
   "source": [
    "<a id='bu11' />\n",
    "\n",
    "## 1.1 - Determinate business question and objetive\n",
    "[(back to top)](#contents)"
   ]
  },
  {
   "cell_type": "markdown",
   "metadata": {},
   "source": [
    "El objetivo del negocio es **ayudar a los tasadores a predecir el precio de venta de los inmuebles**.                                                  **<---**"
   ]
  },
  {
   "cell_type": "markdown",
   "metadata": {},
   "source": [
    "Primero me planteo ¿Qué datos crees que te ayudarían a trabajar en el problema?¿Por qué?"
   ]
  },
  {
   "cell_type": "markdown",
   "metadata": {},
   "source": [
    "Para no contrastar el modelo con mi subjetividad, buscaría diversos enfoques para evaluar los datos que estan mas relacionados en la tasacion. \n",
    "Primero consultaria con ellos, que son los profesionales, para saber que metricas piensan que son mas relevantes a la hora de estimar el valor. Haria una lista de la informacion que me brinden. Adicionalmente contactaria con amigos/conocidos del rubro inmoviliario para que me den sus opiniones. Tambien buscaria obtener bases de datos de la competencia o datos publicos del gobierno. \n",
    "\n",
    "Creo que datos como la superficie, el lugar, la antiguedad, amenities, tipo de propiedad, indices macroeconomicos del sector y el pais, densidad poblacional y precios de inmuebles aledaños me ayudarian por que la valuacion es una cuestion economica. Habria que ver la demanda del sector y que atributos consideran los consumidores a la hora de elegir un inmueble.\n",
    "\n",
    "Luego buscaria relaciones entre las variables para ver si hay atributos que estan correlacionados con el valor de un inmueble y su ponderacion."
   ]
  },
  {
   "cell_type": "markdown",
   "metadata": {},
   "source": [
    "<a id='bu12' />\n",
    "\n",
    "## 1.2 - Situation assessment\n",
    "[(back to top)](#contents)"
   ]
  },
  {
   "cell_type": "markdown",
   "metadata": {},
   "source": [
    "Al ingresar a un trabajo se te plantea una problematica en particular, siendo esta la de ayudar a tasadores de la empresa Properati a valuar propiedades. Pero haciendo un analisis global de la situacion nos encontramos con diversos universos que entran en juego. Es menester no solo saber las problematicas del equipo al cual te incorporaste recientemente, sino tambien saber las necesidades de los clientes y de la empresa Porperti, como asi del sector en el cual se encuentran inmersos. Identificando estos 3 universos como datos en casos de estudio tenemos:\n",
    "\n",
    "1 - Datos de la empresa en la que se trabaja (Properati)\n",
    "\n",
    "2 - Datos de la competencia (zonajobs, argenprop, mercadolibre, etc) (Benchmarking web scraping)\n",
    "\n",
    "3 - Datos de potenciales compradores. (Bayes)\n",
    "\n",
    "Tenemos que saber las limitaciones de nuestros datos para estar mas seguros de nuestras conclusiones. Los datasets brindados por properarti nos pueden suponer un riesgo a la hora de sacar conclusiones apresuradas, quizas otros proveedores tambien tengan informacion. Debemos ser conscientes de que el riesgo de sesgo esta. Como contingencia tambien podemos aplicar el presente proyecto tomando data de otras fuentes.\n",
    "\n",
    "El proyecto no requiere costos mas que las horas utilizadas en el mismo, tampoco a la escala realizada se deben emplear herramientas pagas. Al estar en un equipo de la empresa tenedremos ya acceso a la informacion. Podria suponer un costo adicional de horas, recursos y dinero si queremos escalar el proyecto con mas grado de profundidad. Por ejemplo podriamos analizar la demanda de los consumidores en inmuebles en ciertas zonas, numero de busquedas en internet sobre compra/venta. Tambien podriamos analizar la variacion en el precio del usd, accesibilidad de creditos hipotecarios o incluso variaciones en los indices de construccion de cada pais en el tiempo segun las situaciones macroeconomicas de los mismos.\n",
    "\n"
   ]
  },
  {
   "cell_type": "markdown",
   "metadata": {},
   "source": [
    "<a id='bu13' />\n",
    "\n",
    "## 1.3 - Determine the project goals\n",
    "[(back to top)](#contents)"
   ]
  },
  {
   "cell_type": "markdown",
   "metadata": {},
   "source": [
    "El objetivo del proyecto sera predecir los precios de los inmuebles con el menor error posible. \n",
    "\n",
    "Solo Accuracy?"
   ]
  },
  {
   "cell_type": "markdown",
   "metadata": {},
   "source": [
    "<a id='bu14' />\n",
    "\n",
    "## 1.4 - Project Plan\n",
    "[(back to top)](#contents)"
   ]
  },
  {
   "cell_type": "markdown",
   "metadata": {},
   "source": [
    " **Phase**              | **Time** | **Resources/Talent** | **Risk** |                                      |   |   |   |   |   \n",
    "------------------------|----------|----------------------|----------|--------------------------------------|---|---|---|---|\n",
    " 1 Business understanding | 1 week   | All analysts         | Management change                               |   |   |   |   |  \n",
    " 2 Data understanding     | 3 week   | Data Scientists      | Data / technology problems                      |   |   |   |   |\n",
    " 3 Data preparation       | 5 week   | Data Scientists      | Data / technology problems                      |   |   |   |   |\n",
    " 4 Modeling               | 2 week   | Data Scientists      | Inability to build adequate model               |   |   |   |   |\n",
    " 5 Evaluation             | 1 week   | Data Scientists      | Economic change, inability to implement results |   |   |   |   |\n",
    " 6 Deployment             | 1 week   | Implementation team  | Economic change, inability to implement results |   |   |   |   |\n",
    "\n"
   ]
  },
  {
   "cell_type": "markdown",
   "metadata": {},
   "source": [
    "---"
   ]
  },
  {
   "cell_type": "markdown",
   "metadata": {
    "ExecuteTime": {
     "end_time": "2020-10-03T16:41:37.935073Z",
     "start_time": "2020-10-03T16:41:37.929129Z"
    }
   },
   "source": [
    "<a id='eda' />\n",
    "\n",
    "# 2. Data Understanding 🔍\n",
    "[(back to top)](#contents)"
   ]
  },
  {
   "cell_type": "markdown",
   "metadata": {},
   "source": [
    "En esta etapa buscamos conocer los datos, estructura, distribucion y calidad de los mismos. La inmobiliaria nos ofrece 5 datasets de acuerdo al pais. Tenemos Argentina, Colombia, Ecuador, Peru y Uruguay. \n",
    "\n",
    "\n",
    "Cada dataset tiene las siguientes columnas:\n",
    "\n",
    "Esquema de avisos\n",
    "\n",
    "- type - Tipo de aviso (Propiedad, Desarrollo/Proyecto).\n",
    "- country - País en el que está publicado el aviso (Argentina, Uruguay, Colombia, Ecuador, Perú)\n",
    "- id - Identificador del aviso. No es único: si el aviso es actualizado por la inmobiliaria (nueva versión del aviso) se crea un nuevo registro con la misma id pero distintas fechas: de alta y de baja.\n",
    "- start_date - Fecha de alta del aviso.\n",
    "- end_date - Fecha de baja del aviso.\n",
    "- created_on - Fecha de alta de la primera versión del aviso.\n",
    "- place - Campos referidos a la ubicación de la propiedad o del desarrollo.\n",
    "- lat - Latitud.\n",
    "- lon - Longitud.\n",
    "- l1 - Nivel administrativo 1: país.\n",
    "- l2 - Nivel administrativo 2: usualmente provincia.\n",
    "- l3 - Nivel administrativo 3: usualmente ciudad.\n",
    "- l4 - Nivel administrativo 4: usualmente barrio.\n",
    "- property - Campos relativos a la propiedad (vacío si el aviso es de un desarrollo/proyecto).\n",
    "- operation - Tipo de operación (Venta, Alquiler).\n",
    "- type - Tipo de propiedad (Casa, Departamento, PH).\n",
    "- rooms - Cantidad de ambientes (útil en Argentina).\n",
    "- bedrooms - Cantidad de dormitorios (útil en el resto de los países).\n",
    "- bathrooms - Cantidad de baños.\n",
    "- surface_total - Superficie total en m².\n",
    "- surface_covered - Superficie cubierta en m².\n",
    "- price - Precio publicado en el anuncio.\n",
    "- currency - Moneda del precio publicado.\n",
    "- price_period - Periodo del precio (Diario, Semanal, Mensual)\n",
    "- title - Título del anuncio.\n",
    "- description - Descripción del anuncio.\n",
    "- development - Campos relativos al desarrollo inmobiliario (vacío si el aviso es de una propiedad).\n",
    "- status - Estado del desarrollo (Terminado, En construcción, ...)\n",
    "- name - Nombre del desarrollo.\n",
    "- short_description - Descripción corta del anuncio.\n",
    "- description - Descripción del anuncio."
   ]
  },
  {
   "cell_type": "markdown",
   "metadata": {},
   "source": [
    "<a id='du21' />\n",
    "\n",
    "## 2.1 - Collect data\n",
    "[(back to top)](#contents)"
   ]
  },
  {
   "cell_type": "code",
   "execution_count": 2,
   "metadata": {},
   "outputs": [],
   "source": [
    "import pandas as pd\n",
    "import seaborn as sns #pip install -U seaborn\n",
    "import plotly.express as px\n",
    "import numpy as np\n",
    "import matplotlib.pyplot as plt"
   ]
  },
  {
   "cell_type": "code",
   "execution_count": 3,
   "metadata": {},
   "outputs": [
    {
     "data": {
      "text/html": [
       "<div>\n",
       "<style scoped>\n",
       "    .dataframe tbody tr th:only-of-type {\n",
       "        vertical-align: middle;\n",
       "    }\n",
       "\n",
       "    .dataframe tbody tr th {\n",
       "        vertical-align: top;\n",
       "    }\n",
       "\n",
       "    .dataframe thead th {\n",
       "        text-align: right;\n",
       "    }\n",
       "</style>\n",
       "<table border=\"1\" class=\"dataframe\">\n",
       "  <thead>\n",
       "    <tr style=\"text-align: right;\">\n",
       "      <th></th>\n",
       "      <th>id</th>\n",
       "      <th>ad_type</th>\n",
       "      <th>start_date</th>\n",
       "      <th>end_date</th>\n",
       "      <th>created_on</th>\n",
       "      <th>lat</th>\n",
       "      <th>lon</th>\n",
       "      <th>l1</th>\n",
       "      <th>l2</th>\n",
       "      <th>l3</th>\n",
       "      <th>...</th>\n",
       "      <th>bathrooms</th>\n",
       "      <th>surface_total</th>\n",
       "      <th>surface_covered</th>\n",
       "      <th>price</th>\n",
       "      <th>currency</th>\n",
       "      <th>price_period</th>\n",
       "      <th>title</th>\n",
       "      <th>description</th>\n",
       "      <th>property_type</th>\n",
       "      <th>operation_type</th>\n",
       "    </tr>\n",
       "  </thead>\n",
       "  <tbody>\n",
       "    <tr>\n",
       "      <th>0</th>\n",
       "      <td>DyVXfkpKygVBKuUk5olH+A==</td>\n",
       "      <td>Propiedad</td>\n",
       "      <td>2020-08-22</td>\n",
       "      <td>2020-09-03</td>\n",
       "      <td>2020-08-22</td>\n",
       "      <td>-34.407468</td>\n",
       "      <td>-58.957367</td>\n",
       "      <td>Argentina</td>\n",
       "      <td>Bs.As. G.B.A. Zona Norte</td>\n",
       "      <td>Pilar</td>\n",
       "      <td>...</td>\n",
       "      <td>NaN</td>\n",
       "      <td>133139.0</td>\n",
       "      <td>NaN</td>\n",
       "      <td>NaN</td>\n",
       "      <td>NaN</td>\n",
       "      <td>Mensual</td>\n",
       "      <td>VENTA - Lote Industrial 130.000m2 - Parque Ind...</td>\n",
       "      <td>Lote (Nro.50) mide 133.139 m2\\n&lt;br&gt;Valor: U$S ...</td>\n",
       "      <td>Lote</td>\n",
       "      <td>Venta</td>\n",
       "    </tr>\n",
       "    <tr>\n",
       "      <th>1</th>\n",
       "      <td>9naojilaMecJN4jlQiTkGg==</td>\n",
       "      <td>Propiedad</td>\n",
       "      <td>2020-08-22</td>\n",
       "      <td>2020-09-04</td>\n",
       "      <td>2020-08-22</td>\n",
       "      <td>-37.996039</td>\n",
       "      <td>-57.542509</td>\n",
       "      <td>Argentina</td>\n",
       "      <td>Buenos Aires Costa Atlántica</td>\n",
       "      <td>Mar del Plata</td>\n",
       "      <td>...</td>\n",
       "      <td>NaN</td>\n",
       "      <td>687.0</td>\n",
       "      <td>687.0</td>\n",
       "      <td>NaN</td>\n",
       "      <td>NaN</td>\n",
       "      <td>Mensual</td>\n",
       "      <td>Casa - Santa Cecilia</td>\n",
       "      <td>Conjunto edilicio de casa y departamentos en b...</td>\n",
       "      <td>Otro</td>\n",
       "      <td>Venta</td>\n",
       "    </tr>\n",
       "    <tr>\n",
       "      <th>2</th>\n",
       "      <td>tlCPRJPjoDEUzuuCelemAQ==</td>\n",
       "      <td>Propiedad</td>\n",
       "      <td>2020-08-22</td>\n",
       "      <td>2020-08-31</td>\n",
       "      <td>2020-08-22</td>\n",
       "      <td>-31.380187</td>\n",
       "      <td>-58.009182</td>\n",
       "      <td>Argentina</td>\n",
       "      <td>Entre Ríos</td>\n",
       "      <td>Concordia</td>\n",
       "      <td>...</td>\n",
       "      <td>1.0</td>\n",
       "      <td>80.0</td>\n",
       "      <td>80.0</td>\n",
       "      <td>NaN</td>\n",
       "      <td>NaN</td>\n",
       "      <td>Mensual</td>\n",
       "      <td>Casa - Concordia</td>\n",
       "      <td>Casa de un dormitorio, cocina, baño, living co...</td>\n",
       "      <td>Casa</td>\n",
       "      <td>Alquiler</td>\n",
       "    </tr>\n",
       "    <tr>\n",
       "      <th>3</th>\n",
       "      <td>Zw3b91glQUO3HNrM5fPYlQ==</td>\n",
       "      <td>Propiedad</td>\n",
       "      <td>2020-08-22</td>\n",
       "      <td>2020-09-04</td>\n",
       "      <td>2020-08-22</td>\n",
       "      <td>-27.494106</td>\n",
       "      <td>-55.123455</td>\n",
       "      <td>Argentina</td>\n",
       "      <td>Misiones</td>\n",
       "      <td>Oberá</td>\n",
       "      <td>...</td>\n",
       "      <td>1.0</td>\n",
       "      <td>NaN</td>\n",
       "      <td>NaN</td>\n",
       "      <td>NaN</td>\n",
       "      <td>NaN</td>\n",
       "      <td>Mensual</td>\n",
       "      <td>Terreno - Obera</td>\n",
       "      <td>IMPORTANTE PROPIEDAD EN VENTA EN OBERA MISIONE...</td>\n",
       "      <td>Lote</td>\n",
       "      <td>Venta</td>\n",
       "    </tr>\n",
       "    <tr>\n",
       "      <th>4</th>\n",
       "      <td>bsU81gm9JEgtZCbTYgvykg==</td>\n",
       "      <td>Propiedad</td>\n",
       "      <td>2020-08-22</td>\n",
       "      <td>2020-09-04</td>\n",
       "      <td>2020-08-22</td>\n",
       "      <td>-32.948856</td>\n",
       "      <td>-60.630464</td>\n",
       "      <td>Argentina</td>\n",
       "      <td>Santa Fe</td>\n",
       "      <td>Rosario</td>\n",
       "      <td>...</td>\n",
       "      <td>1.0</td>\n",
       "      <td>76.0</td>\n",
       "      <td>66.0</td>\n",
       "      <td>NaN</td>\n",
       "      <td>NaN</td>\n",
       "      <td>Mensual</td>\n",
       "      <td>Departamento - Rosario</td>\n",
       "      <td>PORTAL DE LOS MARINOS&lt;br&gt;Es un complejo de viv...</td>\n",
       "      <td>Departamento</td>\n",
       "      <td>Venta</td>\n",
       "    </tr>\n",
       "  </tbody>\n",
       "</table>\n",
       "<p>5 rows × 25 columns</p>\n",
       "</div>"
      ],
      "text/plain": [
       "                         id    ad_type  start_date    end_date  created_on  \\\n",
       "0  DyVXfkpKygVBKuUk5olH+A==  Propiedad  2020-08-22  2020-09-03  2020-08-22   \n",
       "1  9naojilaMecJN4jlQiTkGg==  Propiedad  2020-08-22  2020-09-04  2020-08-22   \n",
       "2  tlCPRJPjoDEUzuuCelemAQ==  Propiedad  2020-08-22  2020-08-31  2020-08-22   \n",
       "3  Zw3b91glQUO3HNrM5fPYlQ==  Propiedad  2020-08-22  2020-09-04  2020-08-22   \n",
       "4  bsU81gm9JEgtZCbTYgvykg==  Propiedad  2020-08-22  2020-09-04  2020-08-22   \n",
       "\n",
       "         lat        lon         l1                            l2  \\\n",
       "0 -34.407468 -58.957367  Argentina      Bs.As. G.B.A. Zona Norte   \n",
       "1 -37.996039 -57.542509  Argentina  Buenos Aires Costa Atlántica   \n",
       "2 -31.380187 -58.009182  Argentina                    Entre Ríos   \n",
       "3 -27.494106 -55.123455  Argentina                      Misiones   \n",
       "4 -32.948856 -60.630464  Argentina                      Santa Fe   \n",
       "\n",
       "              l3  ... bathrooms surface_total  surface_covered  price  \\\n",
       "0          Pilar  ...       NaN      133139.0              NaN    NaN   \n",
       "1  Mar del Plata  ...       NaN         687.0            687.0    NaN   \n",
       "2      Concordia  ...       1.0          80.0             80.0    NaN   \n",
       "3          Oberá  ...       1.0           NaN              NaN    NaN   \n",
       "4        Rosario  ...       1.0          76.0             66.0    NaN   \n",
       "\n",
       "   currency  price_period                                              title  \\\n",
       "0       NaN       Mensual  VENTA - Lote Industrial 130.000m2 - Parque Ind...   \n",
       "1       NaN       Mensual                               Casa - Santa Cecilia   \n",
       "2       NaN       Mensual                                   Casa - Concordia   \n",
       "3       NaN       Mensual                                    Terreno - Obera   \n",
       "4       NaN       Mensual                             Departamento - Rosario   \n",
       "\n",
       "                                         description  property_type  \\\n",
       "0  Lote (Nro.50) mide 133.139 m2\\n<br>Valor: U$S ...           Lote   \n",
       "1  Conjunto edilicio de casa y departamentos en b...           Otro   \n",
       "2  Casa de un dormitorio, cocina, baño, living co...           Casa   \n",
       "3  IMPORTANTE PROPIEDAD EN VENTA EN OBERA MISIONE...           Lote   \n",
       "4  PORTAL DE LOS MARINOS<br>Es un complejo de viv...   Departamento   \n",
       "\n",
       "  operation_type  \n",
       "0          Venta  \n",
       "1          Venta  \n",
       "2       Alquiler  \n",
       "3          Venta  \n",
       "4          Venta  \n",
       "\n",
       "[5 rows x 25 columns]"
      ]
     },
     "execution_count": 3,
     "metadata": {},
     "output_type": "execute_result"
    }
   ],
   "source": [
    "ar = pd.read_csv('ar_data')\n",
    "ar.head()"
   ]
  },
  {
   "cell_type": "code",
   "execution_count": 4,
   "metadata": {},
   "outputs": [],
   "source": [
    "#co = pd.read_csv('co_data')\n",
    "#co.head()"
   ]
  },
  {
   "cell_type": "code",
   "execution_count": 5,
   "metadata": {},
   "outputs": [],
   "source": [
    "#ec = pd.read_csv('ec_data')\n",
    "#ec.head()"
   ]
  },
  {
   "cell_type": "code",
   "execution_count": 6,
   "metadata": {},
   "outputs": [],
   "source": [
    "#uy = pd.read_csv('uy_data')\n",
    "#uy.head()"
   ]
  },
  {
   "cell_type": "code",
   "execution_count": 7,
   "metadata": {},
   "outputs": [],
   "source": [
    "#pe = pd.read_csv('pe_data')\n",
    "#pe.head()"
   ]
  },
  {
   "cell_type": "markdown",
   "metadata": {},
   "source": [
    "<a id='du22' />\n",
    "\n",
    "## 2.2 - Describe data\n",
    "[(back to top)](#contents)"
   ]
  },
  {
   "cell_type": "markdown",
   "metadata": {},
   "source": [
    "Al tratarse de una valuacion en el territorio lo que vamos a ir haciendo es analizando la data desde una perspectiva global a una local, empezando por ver que paises, provincias, regiones contienen nuestros datos, hasta llegar a las zonas o barrios de los mismos.."
   ]
  },
  {
   "cell_type": "markdown",
   "metadata": {},
   "source": [
    "Veremos aqui que tipos de datos tenemos, cuantos y algunas medidas estadisticas generales."
   ]
  },
  {
   "cell_type": "code",
   "execution_count": 9,
   "metadata": {},
   "outputs": [
    {
     "name": "stdout",
     "output_type": "stream",
     "text": [
      "Shape de Argentina es: (1000000, 25)\n"
     ]
    }
   ],
   "source": [
    "print('Shape de Argentina es: ' + format(ar.shape))\n",
    "#print('Shape de Colombia es: ' + format(co.shape))\n",
    "#print('Shape de Uruguay es: ' + format(uy.shape))\n",
    "#print('Shape de Ecuador: ' + format(ec.shape))\n",
    "#print('Shape de Peru: ' + format(pe.shape))\n",
    "\n"
   ]
  },
  {
   "cell_type": "markdown",
   "metadata": {},
   "source": [
    "Tipo de valor segun la columna"
   ]
  },
  {
   "cell_type": "code",
   "execution_count": 10,
   "metadata": {},
   "outputs": [
    {
     "data": {
      "text/plain": [
       "id                  object\n",
       "ad_type             object\n",
       "start_date          object\n",
       "end_date            object\n",
       "created_on          object\n",
       "lat                float64\n",
       "lon                float64\n",
       "l1                  object\n",
       "l2                  object\n",
       "l3                  object\n",
       "l4                  object\n",
       "l5                  object\n",
       "l6                 float64\n",
       "rooms              float64\n",
       "bedrooms           float64\n",
       "bathrooms          float64\n",
       "surface_total      float64\n",
       "surface_covered    float64\n",
       "price              float64\n",
       "currency            object\n",
       "price_period        object\n",
       "title               object\n",
       "description         object\n",
       "property_type       object\n",
       "operation_type      object\n",
       "dtype: object"
      ]
     },
     "execution_count": 10,
     "metadata": {},
     "output_type": "execute_result"
    }
   ],
   "source": [
    "ar.dtypes"
   ]
  },
  {
   "cell_type": "markdown",
   "metadata": {},
   "source": [
    "Cantidad de registros por columna"
   ]
  },
  {
   "cell_type": "code",
   "execution_count": 11,
   "metadata": {},
   "outputs": [
    {
     "data": {
      "text/plain": [
       "id                 1000000\n",
       "ad_type            1000000\n",
       "start_date         1000000\n",
       "end_date           1000000\n",
       "created_on         1000000\n",
       "lat                 894233\n",
       "lon                 894191\n",
       "l1                 1000000\n",
       "l2                 1000000\n",
       "l3                  965273\n",
       "l4                  306162\n",
       "l5                    5530\n",
       "l6                       0\n",
       "rooms               714179\n",
       "bedrooms            649933\n",
       "bathrooms           765122\n",
       "surface_total       477831\n",
       "surface_covered     487756\n",
       "price               958243\n",
       "currency            955491\n",
       "price_period        429870\n",
       "title               999999\n",
       "description         999958\n",
       "property_type      1000000\n",
       "operation_type     1000000\n",
       "dtype: int64"
      ]
     },
     "execution_count": 11,
     "metadata": {},
     "output_type": "execute_result"
    }
   ],
   "source": [
    "ar.count()"
   ]
  },
  {
   "cell_type": "code",
   "execution_count": 12,
   "metadata": {},
   "outputs": [
    {
     "data": {
      "text/html": [
       "<div>\n",
       "<style scoped>\n",
       "    .dataframe tbody tr th:only-of-type {\n",
       "        vertical-align: middle;\n",
       "    }\n",
       "\n",
       "    .dataframe tbody tr th {\n",
       "        vertical-align: top;\n",
       "    }\n",
       "\n",
       "    .dataframe thead th {\n",
       "        text-align: right;\n",
       "    }\n",
       "</style>\n",
       "<table border=\"1\" class=\"dataframe\">\n",
       "  <thead>\n",
       "    <tr style=\"text-align: right;\">\n",
       "      <th></th>\n",
       "      <th>lat</th>\n",
       "      <th>lon</th>\n",
       "      <th>l6</th>\n",
       "      <th>rooms</th>\n",
       "      <th>bedrooms</th>\n",
       "      <th>bathrooms</th>\n",
       "      <th>surface_total</th>\n",
       "      <th>surface_covered</th>\n",
       "      <th>price</th>\n",
       "    </tr>\n",
       "  </thead>\n",
       "  <tbody>\n",
       "    <tr>\n",
       "      <th>count</th>\n",
       "      <td>894233.000000</td>\n",
       "      <td>894191.000000</td>\n",
       "      <td>0.0</td>\n",
       "      <td>714179.000000</td>\n",
       "      <td>649933.000000</td>\n",
       "      <td>765122.000000</td>\n",
       "      <td>477831.000000</td>\n",
       "      <td>4.877560e+05</td>\n",
       "      <td>9.582430e+05</td>\n",
       "    </tr>\n",
       "    <tr>\n",
       "      <th>mean</th>\n",
       "      <td>-34.377500</td>\n",
       "      <td>-59.491698</td>\n",
       "      <td>NaN</td>\n",
       "      <td>2.916567</td>\n",
       "      <td>2.097815</td>\n",
       "      <td>1.708581</td>\n",
       "      <td>513.760752</td>\n",
       "      <td>1.165622e+04</td>\n",
       "      <td>3.460940e+05</td>\n",
       "    </tr>\n",
       "    <tr>\n",
       "      <th>std</th>\n",
       "      <td>3.035987</td>\n",
       "      <td>2.800543</td>\n",
       "      <td>NaN</td>\n",
       "      <td>1.739685</td>\n",
       "      <td>2.079008</td>\n",
       "      <td>1.092221</td>\n",
       "      <td>4297.241604</td>\n",
       "      <td>4.443191e+06</td>\n",
       "      <td>5.713690e+06</td>\n",
       "    </tr>\n",
       "    <tr>\n",
       "      <th>min</th>\n",
       "      <td>-54.841484</td>\n",
       "      <td>-122.538399</td>\n",
       "      <td>NaN</td>\n",
       "      <td>1.000000</td>\n",
       "      <td>-16.000000</td>\n",
       "      <td>1.000000</td>\n",
       "      <td>-136.000000</td>\n",
       "      <td>-1.300000e+02</td>\n",
       "      <td>0.000000e+00</td>\n",
       "    </tr>\n",
       "    <tr>\n",
       "      <th>25%</th>\n",
       "      <td>-34.723328</td>\n",
       "      <td>-58.876930</td>\n",
       "      <td>NaN</td>\n",
       "      <td>2.000000</td>\n",
       "      <td>1.000000</td>\n",
       "      <td>1.000000</td>\n",
       "      <td>50.000000</td>\n",
       "      <td>4.500000e+01</td>\n",
       "      <td>3.800000e+04</td>\n",
       "    </tr>\n",
       "    <tr>\n",
       "      <th>50%</th>\n",
       "      <td>-34.593014</td>\n",
       "      <td>-58.493790</td>\n",
       "      <td>NaN</td>\n",
       "      <td>3.000000</td>\n",
       "      <td>2.000000</td>\n",
       "      <td>1.000000</td>\n",
       "      <td>95.000000</td>\n",
       "      <td>7.800000e+01</td>\n",
       "      <td>9.700000e+04</td>\n",
       "    </tr>\n",
       "    <tr>\n",
       "      <th>75%</th>\n",
       "      <td>-34.415841</td>\n",
       "      <td>-58.397472</td>\n",
       "      <td>NaN</td>\n",
       "      <td>4.000000</td>\n",
       "      <td>3.000000</td>\n",
       "      <td>2.000000</td>\n",
       "      <td>250.000000</td>\n",
       "      <td>1.680000e+02</td>\n",
       "      <td>2.100000e+05</td>\n",
       "    </tr>\n",
       "    <tr>\n",
       "      <th>max</th>\n",
       "      <td>49.633731</td>\n",
       "      <td>180.000000</td>\n",
       "      <td>NaN</td>\n",
       "      <td>40.000000</td>\n",
       "      <td>900.000000</td>\n",
       "      <td>20.000000</td>\n",
       "      <td>200000.000000</td>\n",
       "      <td>2.147484e+09</td>\n",
       "      <td>3.100000e+09</td>\n",
       "    </tr>\n",
       "  </tbody>\n",
       "</table>\n",
       "</div>"
      ],
      "text/plain": [
       "                 lat            lon   l6          rooms       bedrooms  \\\n",
       "count  894233.000000  894191.000000  0.0  714179.000000  649933.000000   \n",
       "mean      -34.377500     -59.491698  NaN       2.916567       2.097815   \n",
       "std         3.035987       2.800543  NaN       1.739685       2.079008   \n",
       "min       -54.841484    -122.538399  NaN       1.000000     -16.000000   \n",
       "25%       -34.723328     -58.876930  NaN       2.000000       1.000000   \n",
       "50%       -34.593014     -58.493790  NaN       3.000000       2.000000   \n",
       "75%       -34.415841     -58.397472  NaN       4.000000       3.000000   \n",
       "max        49.633731     180.000000  NaN      40.000000     900.000000   \n",
       "\n",
       "           bathrooms  surface_total  surface_covered         price  \n",
       "count  765122.000000  477831.000000     4.877560e+05  9.582430e+05  \n",
       "mean        1.708581     513.760752     1.165622e+04  3.460940e+05  \n",
       "std         1.092221    4297.241604     4.443191e+06  5.713690e+06  \n",
       "min         1.000000    -136.000000    -1.300000e+02  0.000000e+00  \n",
       "25%         1.000000      50.000000     4.500000e+01  3.800000e+04  \n",
       "50%         1.000000      95.000000     7.800000e+01  9.700000e+04  \n",
       "75%         2.000000     250.000000     1.680000e+02  2.100000e+05  \n",
       "max        20.000000  200000.000000     2.147484e+09  3.100000e+09  "
      ]
     },
     "execution_count": 12,
     "metadata": {},
     "output_type": "execute_result"
    }
   ],
   "source": [
    "ar.describe()"
   ]
  },
  {
   "cell_type": "code",
   "execution_count": null,
   "metadata": {},
   "outputs": [],
   "source": []
  },
  {
   "cell_type": "code",
   "execution_count": null,
   "metadata": {},
   "outputs": [],
   "source": []
  },
  {
   "cell_type": "code",
   "execution_count": null,
   "metadata": {},
   "outputs": [],
   "source": []
  },
  {
   "cell_type": "markdown",
   "metadata": {},
   "source": [
    "<a id='du23' />\n",
    "\n",
    "## 2.3 - Explore data\n",
    "[(back to top)](#contents)"
   ]
  },
  {
   "cell_type": "markdown",
   "metadata": {},
   "source": [
    "Exploring the data. Describe the relationship between data, visualize the data, and be creative. What is important is your data exploration could verify the business question."
   ]
  },
  {
   "cell_type": "markdown",
   "metadata": {},
   "source": [
    "Veremos cuantos tipos de propiedades tenemos.."
   ]
  },
  {
   "cell_type": "code",
   "execution_count": 13,
   "metadata": {},
   "outputs": [
    {
     "data": {
      "text/plain": [
       "10"
      ]
     },
     "execution_count": 13,
     "metadata": {},
     "output_type": "execute_result"
    }
   ],
   "source": [
    "len(ar[\"property_type\"].value_counts())"
   ]
  },
  {
   "cell_type": "code",
   "execution_count": 14,
   "metadata": {},
   "outputs": [
    {
     "data": {
      "text/plain": [
       "Departamento       457907\n",
       "Casa               245726\n",
       "Lote               121311\n",
       "PH                  45837\n",
       "Local comercial     45593\n",
       "Oficina             32390\n",
       "Otro                27837\n",
       "Cochera             13276\n",
       "Depósito             7872\n",
       "Casa de campo        2251\n",
       "Name: property_type, dtype: int64"
      ]
     },
     "execution_count": 14,
     "metadata": {},
     "output_type": "execute_result"
    }
   ],
   "source": [
    "ar[\"property_type\"].value_counts()"
   ]
  },
  {
   "cell_type": "markdown",
   "metadata": {},
   "source": [
    "vemos que los 10 tipos son diferentes"
   ]
  },
  {
   "cell_type": "markdown",
   "metadata": {},
   "source": [
    "AHora bien, no nos olvidemos del objetivo. Ayudar a los tasadores a predecir el valor de las propiedads. En base a esto... Tenemos la informacion suficiente de cada region? No es lo mismo tener muchos datos para Rosario y poder predecir el valor de las propiedades, o si tenemos pocos datos para Buenos Aires."
   ]
  },
  {
   "cell_type": "code",
   "execution_count": 31,
   "metadata": {},
   "outputs": [
    {
     "data": {
      "text/plain": [
       "<AxesSubplot:xlabel='count', ylabel='property_type'>"
      ]
     },
     "execution_count": 31,
     "metadata": {},
     "output_type": "execute_result"
    },
    {
     "data": {
      "image/png": "[encoded data removed]",
      "text/plain": [
       "<Figure size 1296x360 with 1 Axes>"
      ]
     },
     "metadata": {
      "needs_background": "light"
     },
     "output_type": "display_data"
    }
   ],
   "source": [
    "plt.figure(figsize=(18,5))\n",
    "plt.xlim(0,480000)\n",
    "sns.countplot(data = ar, y = \"property_type\", palette=\"coolwarm\", hue='l1') #Comparativa entre las cantidades de propiedades segun su tipo"
   ]
  },
  {
   "cell_type": "markdown",
   "metadata": {},
   "source": [
    "Con este grafico vemos que la cantidad de datos que tenemos de departamentos es lejos la mayor, seguida de las casas y luego los lotes."
   ]
  },
  {
   "cell_type": "markdown",
   "metadata": {},
   "source": [
    "Otra cosa que nos damos cuenta es que tenemos datos erroneos de otros paises en nuestro dataset de Argentina"
   ]
  },
  {
   "cell_type": "code",
   "execution_count": 60,
   "metadata": {},
   "outputs": [
    {
     "name": "stdout",
     "output_type": "stream",
     "text": [
      "Tenemos 16885 datos que no son de Argentina\n"
     ]
    }
   ],
   "source": [
    "ar2 = ar[ar['l1'] == 'Argentina']\n",
    "dif = ar.shape[0] - ar2.shape[0]\n",
    "print('Tenemos ' + str(dif) + ' datos que no son de Argentina')"
   ]
  },
  {
   "cell_type": "markdown",
   "metadata": {},
   "source": [
    "Asi que usaremos ar2 como nuestro dataset principal..."
   ]
  },
  {
   "cell_type": "code",
   "execution_count": 67,
   "metadata": {},
   "outputs": [
    {
     "data": {
      "text/plain": [
       "<AxesSubplot:xlabel='count', ylabel='property_type'>"
      ]
     },
     "execution_count": 67,
     "metadata": {},
     "output_type": "execute_result"
    },
    {
     "data": {
      "image/png": "[encoded data removed]",
      "text/plain": [
       "<Figure size 1800x432 with 1 Axes>"
      ]
     },
     "metadata": {
      "needs_background": "light"
     },
     "output_type": "display_data"
    }
   ],
   "source": [
    "plt.figure(figsize=(25,6))\n",
    "plt.xlim(0,220000)\n",
    "sns.countplot(data = ar2, y = \"property_type\", palette=\"coolwarm\", hue='l2') #Comparativa entre las cantidades de propiedades segun su tipo"
   ]
  },
  {
   "cell_type": "markdown",
   "metadata": {},
   "source": [
    "Con el grafico vemos que siguen predominando los departamentos en nuestro dataset."
   ]
  },
  {
   "cell_type": "markdown",
   "metadata": {},
   "source": [
    "Como nuestro equipo es de Buenos Aires, acotaremos aun mas el dataset tomando solo los valores de Capital Federal y Gran Buenos Aires. Para el caso de que no conozcas el territorio dejo un mapa a cotinuacion"
   ]
  },
  {
   "cell_type": "markdown",
   "metadata": {},
   "source": [
    "<img \n",
    "    style=\"display: block; \n",
    "           margin-left: auto;\n",
    "           margin-right: auto;\n",
    "           width: 30%;\"\n",
    "    src=\"https://3.bp.blogspot.com/-200Mbt05FOY/VE1FvhOoajI/AAAAAAAAAZY/XPs_wdVjBHQ/s1600/buenosairesprovincia.jpg\" \n",
    "    alt=\"Our logo\">\n",
    "</img>"
   ]
  },
  {
   "cell_type": "code",
   "execution_count": 78,
   "metadata": {},
   "outputs": [],
   "source": [
    "zone = ['Capital Federal','Bs.As. G.B.A. Zona Norte','Bs.As. G.B.A. Zona Sur','Bs.As. G.B.A. Zona Oeste'] #armamos uan variable con los filtros de las zonas que queremos\n",
    "    \n",
    "BA = ar2[ar2['l2'].isin(zone)] "
   ]
  },
  {
   "cell_type": "code",
   "execution_count": 79,
   "metadata": {},
   "outputs": [
    {
     "data": {
      "text/html": [
       "<div>\n",
       "<style scoped>\n",
       "    .dataframe tbody tr th:only-of-type {\n",
       "        vertical-align: middle;\n",
       "    }\n",
       "\n",
       "    .dataframe tbody tr th {\n",
       "        vertical-align: top;\n",
       "    }\n",
       "\n",
       "    .dataframe thead th {\n",
       "        text-align: right;\n",
       "    }\n",
       "</style>\n",
       "<table border=\"1\" class=\"dataframe\">\n",
       "  <thead>\n",
       "    <tr style=\"text-align: right;\">\n",
       "      <th></th>\n",
       "      <th>id</th>\n",
       "      <th>ad_type</th>\n",
       "      <th>start_date</th>\n",
       "      <th>end_date</th>\n",
       "      <th>created_on</th>\n",
       "      <th>lat</th>\n",
       "      <th>lon</th>\n",
       "      <th>l1</th>\n",
       "      <th>l2</th>\n",
       "      <th>l3</th>\n",
       "      <th>...</th>\n",
       "      <th>bathrooms</th>\n",
       "      <th>surface_total</th>\n",
       "      <th>surface_covered</th>\n",
       "      <th>price</th>\n",
       "      <th>currency</th>\n",
       "      <th>price_period</th>\n",
       "      <th>title</th>\n",
       "      <th>description</th>\n",
       "      <th>property_type</th>\n",
       "      <th>operation_type</th>\n",
       "    </tr>\n",
       "  </thead>\n",
       "  <tbody>\n",
       "    <tr>\n",
       "      <th>0</th>\n",
       "      <td>DyVXfkpKygVBKuUk5olH+A==</td>\n",
       "      <td>Propiedad</td>\n",
       "      <td>2020-08-22</td>\n",
       "      <td>2020-09-03</td>\n",
       "      <td>2020-08-22</td>\n",
       "      <td>-34.407468</td>\n",
       "      <td>-58.957367</td>\n",
       "      <td>Argentina</td>\n",
       "      <td>Bs.As. G.B.A. Zona Norte</td>\n",
       "      <td>Pilar</td>\n",
       "      <td>...</td>\n",
       "      <td>NaN</td>\n",
       "      <td>133139.0</td>\n",
       "      <td>NaN</td>\n",
       "      <td>NaN</td>\n",
       "      <td>NaN</td>\n",
       "      <td>Mensual</td>\n",
       "      <td>VENTA - Lote Industrial 130.000m2 - Parque Ind...</td>\n",
       "      <td>Lote (Nro.50) mide 133.139 m2\\n&lt;br&gt;Valor: U$S ...</td>\n",
       "      <td>Lote</td>\n",
       "      <td>Venta</td>\n",
       "    </tr>\n",
       "    <tr>\n",
       "      <th>6</th>\n",
       "      <td>6TO5dWwmivuJ67zkztUzCA==</td>\n",
       "      <td>Propiedad</td>\n",
       "      <td>2020-08-22</td>\n",
       "      <td>2020-09-04</td>\n",
       "      <td>2020-08-22</td>\n",
       "      <td>-34.604195</td>\n",
       "      <td>-58.559827</td>\n",
       "      <td>Argentina</td>\n",
       "      <td>Bs.As. G.B.A. Zona Oeste</td>\n",
       "      <td>Tres de Febrero</td>\n",
       "      <td>...</td>\n",
       "      <td>1.0</td>\n",
       "      <td>NaN</td>\n",
       "      <td>42.0</td>\n",
       "      <td>NaN</td>\n",
       "      <td>NaN</td>\n",
       "      <td>Mensual</td>\n",
       "      <td>Departamento - Caseros</td>\n",
       "      <td>Departamento 2 ambientes con Lavadero en Nicar...</td>\n",
       "      <td>Departamento</td>\n",
       "      <td>Alquiler</td>\n",
       "    </tr>\n",
       "    <tr>\n",
       "      <th>8</th>\n",
       "      <td>qfqOOoyVcoIjoOzxFQc+ag==</td>\n",
       "      <td>Propiedad</td>\n",
       "      <td>2020-08-22</td>\n",
       "      <td>2020-08-25</td>\n",
       "      <td>2020-08-22</td>\n",
       "      <td>-34.386431</td>\n",
       "      <td>-58.862572</td>\n",
       "      <td>Argentina</td>\n",
       "      <td>Bs.As. G.B.A. Zona Norte</td>\n",
       "      <td>Pilar</td>\n",
       "      <td>...</td>\n",
       "      <td>2.0</td>\n",
       "      <td>142.0</td>\n",
       "      <td>121.0</td>\n",
       "      <td>NaN</td>\n",
       "      <td>NaN</td>\n",
       "      <td>Mensual</td>\n",
       "      <td>Casa - San Eduardo</td>\n",
       "      <td>Casa a estrenar en San Eduardo, solo le faltan...</td>\n",
       "      <td>Casa</td>\n",
       "      <td>Venta</td>\n",
       "    </tr>\n",
       "    <tr>\n",
       "      <th>10</th>\n",
       "      <td>G76siqFjUTAkA3O9qSOuWg==</td>\n",
       "      <td>Propiedad</td>\n",
       "      <td>2020-08-22</td>\n",
       "      <td>2020-08-25</td>\n",
       "      <td>2020-08-22</td>\n",
       "      <td>-34.439610</td>\n",
       "      <td>-58.629968</td>\n",
       "      <td>Argentina</td>\n",
       "      <td>Bs.As. G.B.A. Zona Norte</td>\n",
       "      <td>Tigre</td>\n",
       "      <td>...</td>\n",
       "      <td>4.0</td>\n",
       "      <td>NaN</td>\n",
       "      <td>260.0</td>\n",
       "      <td>NaN</td>\n",
       "      <td>NaN</td>\n",
       "      <td>Mensual</td>\n",
       "      <td>Santa Barbara - Alquiler Verano</td>\n",
       "      <td>Hermosa casa al agua en Santa Barbara&lt;br&gt;&lt;br&gt;&lt;...</td>\n",
       "      <td>Casa</td>\n",
       "      <td>Alquiler temporal</td>\n",
       "    </tr>\n",
       "    <tr>\n",
       "      <th>11</th>\n",
       "      <td>Co2Ec51tmGRuaqvG+Hc1bg==</td>\n",
       "      <td>Propiedad</td>\n",
       "      <td>2020-08-22</td>\n",
       "      <td>2020-08-24</td>\n",
       "      <td>2020-08-22</td>\n",
       "      <td>NaN</td>\n",
       "      <td>NaN</td>\n",
       "      <td>Argentina</td>\n",
       "      <td>Bs.As. G.B.A. Zona Norte</td>\n",
       "      <td>San Isidro</td>\n",
       "      <td>...</td>\n",
       "      <td>2.0</td>\n",
       "      <td>320.0</td>\n",
       "      <td>320.0</td>\n",
       "      <td>NaN</td>\n",
       "      <td>NaN</td>\n",
       "      <td>Mensual</td>\n",
       "      <td>Reclus 968</td>\n",
       "      <td>Alquiler Enero $65.000 &lt;br&gt;La propiedad se enc...</td>\n",
       "      <td>Casa</td>\n",
       "      <td>Alquiler temporal</td>\n",
       "    </tr>\n",
       "  </tbody>\n",
       "</table>\n",
       "<p>5 rows × 25 columns</p>\n",
       "</div>"
      ],
      "text/plain": [
       "                          id    ad_type  start_date    end_date  created_on  \\\n",
       "0   DyVXfkpKygVBKuUk5olH+A==  Propiedad  2020-08-22  2020-09-03  2020-08-22   \n",
       "6   6TO5dWwmivuJ67zkztUzCA==  Propiedad  2020-08-22  2020-09-04  2020-08-22   \n",
       "8   qfqOOoyVcoIjoOzxFQc+ag==  Propiedad  2020-08-22  2020-08-25  2020-08-22   \n",
       "10  G76siqFjUTAkA3O9qSOuWg==  Propiedad  2020-08-22  2020-08-25  2020-08-22   \n",
       "11  Co2Ec51tmGRuaqvG+Hc1bg==  Propiedad  2020-08-22  2020-08-24  2020-08-22   \n",
       "\n",
       "          lat        lon         l1                        l2  \\\n",
       "0  -34.407468 -58.957367  Argentina  Bs.As. G.B.A. Zona Norte   \n",
       "6  -34.604195 -58.559827  Argentina  Bs.As. G.B.A. Zona Oeste   \n",
       "8  -34.386431 -58.862572  Argentina  Bs.As. G.B.A. Zona Norte   \n",
       "10 -34.439610 -58.629968  Argentina  Bs.As. G.B.A. Zona Norte   \n",
       "11        NaN        NaN  Argentina  Bs.As. G.B.A. Zona Norte   \n",
       "\n",
       "                 l3  ... bathrooms surface_total  surface_covered  price  \\\n",
       "0             Pilar  ...       NaN      133139.0              NaN    NaN   \n",
       "6   Tres de Febrero  ...       1.0           NaN             42.0    NaN   \n",
       "8             Pilar  ...       2.0         142.0            121.0    NaN   \n",
       "10            Tigre  ...       4.0           NaN            260.0    NaN   \n",
       "11       San Isidro  ...       2.0         320.0            320.0    NaN   \n",
       "\n",
       "    currency  price_period                                              title  \\\n",
       "0        NaN       Mensual  VENTA - Lote Industrial 130.000m2 - Parque Ind...   \n",
       "6        NaN       Mensual                             Departamento - Caseros   \n",
       "8        NaN       Mensual                                 Casa - San Eduardo   \n",
       "10       NaN       Mensual                    Santa Barbara - Alquiler Verano   \n",
       "11       NaN       Mensual                                         Reclus 968   \n",
       "\n",
       "                                          description  property_type  \\\n",
       "0   Lote (Nro.50) mide 133.139 m2\\n<br>Valor: U$S ...           Lote   \n",
       "6   Departamento 2 ambientes con Lavadero en Nicar...   Departamento   \n",
       "8   Casa a estrenar en San Eduardo, solo le faltan...           Casa   \n",
       "10  Hermosa casa al agua en Santa Barbara<br><br><...           Casa   \n",
       "11  Alquiler Enero $65.000 <br>La propiedad se enc...           Casa   \n",
       "\n",
       "       operation_type  \n",
       "0               Venta  \n",
       "6            Alquiler  \n",
       "8               Venta  \n",
       "10  Alquiler temporal  \n",
       "11  Alquiler temporal  \n",
       "\n",
       "[5 rows x 25 columns]"
      ]
     },
     "execution_count": 79,
     "metadata": {},
     "output_type": "execute_result"
    }
   ],
   "source": [
    "BA.head()"
   ]
  },
  {
   "cell_type": "code",
   "execution_count": 80,
   "metadata": {},
   "outputs": [
    {
     "data": {
      "text/plain": [
       "(657652, 25)"
      ]
     },
     "execution_count": 80,
     "metadata": {},
     "output_type": "execute_result"
    }
   ],
   "source": [
    "BA.shape"
   ]
  },
  {
   "cell_type": "markdown",
   "metadata": {},
   "source": [
    "Cabe mencionar que Buenos Aires es la provincia completa, el equipo nos solicita la informacion de Capital Federal y Gran Buenos Aires (las zonas filtradas). Veamos que tenemos en esta zona!"
   ]
  },
  {
   "cell_type": "code",
   "execution_count": 187,
   "metadata": {},
   "outputs": [
    {
     "data": {
      "text/plain": [
       "<AxesSubplot:xlabel='count', ylabel='property_type'>"
      ]
     },
     "execution_count": 187,
     "metadata": {},
     "output_type": "execute_result"
    },
    {
     "data": {
      "image/png": "[encoded data removed]",
      "text/plain": [
       "<Figure size 1800x432 with 1 Axes>"
      ]
     },
     "metadata": {},
     "output_type": "display_data"
    }
   ],
   "source": [
    "plt.figure(figsize=(25,6))\n",
    "plt.xlim(0,220000)\n",
    "sns.countplot(data = BA, y = \"property_type\", palette=\"Blues\", hue='l2') #Comparativa entre las cantidades de propiedades segun su tipo"
   ]
  },
  {
   "cell_type": "code",
   "execution_count": 83,
   "metadata": {},
   "outputs": [
    {
     "data": {
      "text/html": [
       "<div>\n",
       "<style scoped>\n",
       "    .dataframe tbody tr th:only-of-type {\n",
       "        vertical-align: middle;\n",
       "    }\n",
       "\n",
       "    .dataframe tbody tr th {\n",
       "        vertical-align: top;\n",
       "    }\n",
       "\n",
       "    .dataframe thead th {\n",
       "        text-align: right;\n",
       "    }\n",
       "</style>\n",
       "<table border=\"1\" class=\"dataframe\">\n",
       "  <thead>\n",
       "    <tr style=\"text-align: right;\">\n",
       "      <th></th>\n",
       "      <th>lat</th>\n",
       "      <th>lon</th>\n",
       "      <th>l6</th>\n",
       "      <th>rooms</th>\n",
       "      <th>bedrooms</th>\n",
       "      <th>bathrooms</th>\n",
       "      <th>surface_total</th>\n",
       "      <th>surface_covered</th>\n",
       "      <th>price</th>\n",
       "    </tr>\n",
       "  </thead>\n",
       "  <tbody>\n",
       "    <tr>\n",
       "      <th>count</th>\n",
       "      <td>588480.000000</td>\n",
       "      <td>588441.000000</td>\n",
       "      <td>0.0</td>\n",
       "      <td>490626.000000</td>\n",
       "      <td>452302.000000</td>\n",
       "      <td>529309.000000</td>\n",
       "      <td>353422.000000</td>\n",
       "      <td>3.599120e+05</td>\n",
       "      <td>6.444790e+05</td>\n",
       "    </tr>\n",
       "    <tr>\n",
       "      <th>mean</th>\n",
       "      <td>-34.606173</td>\n",
       "      <td>-58.488017</td>\n",
       "      <td>NaN</td>\n",
       "      <td>2.884136</td>\n",
       "      <td>2.098558</td>\n",
       "      <td>1.746008</td>\n",
       "      <td>395.491602</td>\n",
       "      <td>9.186651e+02</td>\n",
       "      <td>2.518773e+05</td>\n",
       "    </tr>\n",
       "    <tr>\n",
       "      <th>std</th>\n",
       "      <td>0.744940</td>\n",
       "      <td>0.644079</td>\n",
       "      <td>NaN</td>\n",
       "      <td>1.658920</td>\n",
       "      <td>2.241816</td>\n",
       "      <td>1.113841</td>\n",
       "      <td>3104.953253</td>\n",
       "      <td>2.627774e+05</td>\n",
       "      <td>1.945618e+06</td>\n",
       "    </tr>\n",
       "    <tr>\n",
       "      <th>min</th>\n",
       "      <td>-54.805401</td>\n",
       "      <td>-122.455286</td>\n",
       "      <td>NaN</td>\n",
       "      <td>1.000000</td>\n",
       "      <td>-16.000000</td>\n",
       "      <td>1.000000</td>\n",
       "      <td>10.000000</td>\n",
       "      <td>-1.300000e+02</td>\n",
       "      <td>0.000000e+00</td>\n",
       "    </tr>\n",
       "    <tr>\n",
       "      <th>25%</th>\n",
       "      <td>-34.657692</td>\n",
       "      <td>-58.570423</td>\n",
       "      <td>NaN</td>\n",
       "      <td>2.000000</td>\n",
       "      <td>1.000000</td>\n",
       "      <td>1.000000</td>\n",
       "      <td>50.000000</td>\n",
       "      <td>4.500000e+01</td>\n",
       "      <td>4.500000e+04</td>\n",
       "    </tr>\n",
       "    <tr>\n",
       "      <th>50%</th>\n",
       "      <td>-34.600011</td>\n",
       "      <td>-58.459052</td>\n",
       "      <td>NaN</td>\n",
       "      <td>3.000000</td>\n",
       "      <td>2.000000</td>\n",
       "      <td>1.000000</td>\n",
       "      <td>91.000000</td>\n",
       "      <td>7.700000e+01</td>\n",
       "      <td>1.150000e+05</td>\n",
       "    </tr>\n",
       "    <tr>\n",
       "      <th>75%</th>\n",
       "      <td>-34.553037</td>\n",
       "      <td>-58.400527</td>\n",
       "      <td>NaN</td>\n",
       "      <td>4.000000</td>\n",
       "      <td>3.000000</td>\n",
       "      <td>2.000000</td>\n",
       "      <td>233.000000</td>\n",
       "      <td>1.700000e+02</td>\n",
       "      <td>2.345000e+05</td>\n",
       "    </tr>\n",
       "    <tr>\n",
       "      <th>max</th>\n",
       "      <td>49.231335</td>\n",
       "      <td>58.703066</td>\n",
       "      <td>NaN</td>\n",
       "      <td>40.000000</td>\n",
       "      <td>900.000000</td>\n",
       "      <td>20.000000</td>\n",
       "      <td>200000.000000</td>\n",
       "      <td>1.111111e+08</td>\n",
       "      <td>3.000000e+08</td>\n",
       "    </tr>\n",
       "  </tbody>\n",
       "</table>\n",
       "</div>"
      ],
      "text/plain": [
       "                 lat            lon   l6          rooms       bedrooms  \\\n",
       "count  588480.000000  588441.000000  0.0  490626.000000  452302.000000   \n",
       "mean      -34.606173     -58.488017  NaN       2.884136       2.098558   \n",
       "std         0.744940       0.644079  NaN       1.658920       2.241816   \n",
       "min       -54.805401    -122.455286  NaN       1.000000     -16.000000   \n",
       "25%       -34.657692     -58.570423  NaN       2.000000       1.000000   \n",
       "50%       -34.600011     -58.459052  NaN       3.000000       2.000000   \n",
       "75%       -34.553037     -58.400527  NaN       4.000000       3.000000   \n",
       "max        49.231335      58.703066  NaN      40.000000     900.000000   \n",
       "\n",
       "           bathrooms  surface_total  surface_covered         price  \n",
       "count  529309.000000  353422.000000     3.599120e+05  6.444790e+05  \n",
       "mean        1.746008     395.491602     9.186651e+02  2.518773e+05  \n",
       "std         1.113841    3104.953253     2.627774e+05  1.945618e+06  \n",
       "min         1.000000      10.000000    -1.300000e+02  0.000000e+00  \n",
       "25%         1.000000      50.000000     4.500000e+01  4.500000e+04  \n",
       "50%         1.000000      91.000000     7.700000e+01  1.150000e+05  \n",
       "75%         2.000000     233.000000     1.700000e+02  2.345000e+05  \n",
       "max        20.000000  200000.000000     1.111111e+08  3.000000e+08  "
      ]
     },
     "execution_count": 83,
     "metadata": {},
     "output_type": "execute_result"
    }
   ],
   "source": [
    "BA.describe()"
   ]
  },
  {
   "cell_type": "code",
   "execution_count": 84,
   "metadata": {},
   "outputs": [
    {
     "data": {
      "text/plain": [
       "id                 657652\n",
       "ad_type            657652\n",
       "start_date         657652\n",
       "end_date           657652\n",
       "created_on         657652\n",
       "lat                588480\n",
       "lon                588441\n",
       "l1                 657652\n",
       "l2                 657652\n",
       "l3                 650270\n",
       "l4                 251011\n",
       "l5                   5530\n",
       "l6                      0\n",
       "rooms              490626\n",
       "bedrooms           452302\n",
       "bathrooms          529309\n",
       "surface_total      353422\n",
       "surface_covered    359912\n",
       "price              644479\n",
       "currency           643472\n",
       "price_period       305887\n",
       "title              657652\n",
       "description        657640\n",
       "property_type      657652\n",
       "operation_type     657652\n",
       "dtype: int64"
      ]
     },
     "execution_count": 84,
     "metadata": {},
     "output_type": "execute_result"
    }
   ],
   "source": [
    "BA.count()"
   ]
  },
  {
   "cell_type": "code",
   "execution_count": null,
   "metadata": {},
   "outputs": [],
   "source": []
  },
  {
   "cell_type": "code",
   "execution_count": 109,
   "metadata": {},
   "outputs": [
    {
     "name": "stdout",
     "output_type": "stream",
     "text": [
      "265125 registros tiene CABA\n",
      "184310 registros tiene Zona Norte\n",
      "131431 registros tiene Zona Sur\n",
      " 76786 registros tiene Zona Oeste\n"
     ]
    }
   ],
   "source": [
    "##### SHAPES\n",
    "\n",
    "#ZONA: CAPITAL FEDERAL\n",
    "dcaba = BA[BA.property_type.isin(['Departamento', 'Casa' , 'PH', 'Lote', 'Oficina', 'Otro','Local comercial', 'Casa de campo', 'Depósito', 'Cochera']) & BA.l2.isin(['Capital Federal'])]\n",
    "print(str(dcaba.shape[0]) + ' registros tiene CABA')\n",
    "\n",
    "#ZONA: NORTE\n",
    "dnorte = BA[BA.property_type.isin(['Departamento', 'Casa' , 'PH', 'Lote', 'Oficina', 'Otro','Local comercial', 'Casa de campo', 'Depósito', 'Cochera']) & BA.l2.isin(['Bs.As. G.B.A. Zona Norte'])]\n",
    "print(str(dnorte.shape[0]) + ' registros tiene Zona Norte')\n",
    "\n",
    "#ZONA: SUR\n",
    "dsur = BA[BA.property_type.isin(['Departamento', 'Casa' , 'PH', 'Lote', 'Oficina', 'Otro','Local comercial', 'Casa de campo', 'Depósito', 'Cochera']) & BA.l2.isin(['Bs.As. G.B.A. Zona Sur'])]\n",
    "print(str(dsur.shape[0]) + ' registros tiene Zona Sur')\n",
    "\n",
    "#ZONA: OESTE\n",
    "doeste = BA[BA.property_type.isin(['Departamento', 'Casa' , 'PH', 'Lote', 'Oficina', 'Otro','Local comercial', 'Casa de campo', 'Depósito', 'Cochera']) & BA.l2.isin(['Bs.As. G.B.A. Zona Oeste'])]\n",
    "print(' ' + str(doeste.shape[0]) + ' registros tiene Zona Oeste')"
   ]
  },
  {
   "cell_type": "code",
   "execution_count": 97,
   "metadata": {},
   "outputs": [
    {
     "name": "stdout",
     "output_type": "stream",
     "text": [
      "657652\n"
     ]
    }
   ],
   "source": [
    "print(dcaba.shape[0] + dnorte.shape[0] + dsur.shape[0] + doeste.shape[0]) #chequeamos la integridad de la informacion"
   ]
  },
  {
   "cell_type": "code",
   "execution_count": 111,
   "metadata": {},
   "outputs": [
    {
     "data": {
      "text/plain": [
       "657652"
      ]
     },
     "execution_count": 111,
     "metadata": {},
     "output_type": "execute_result"
    }
   ],
   "source": [
    "BA.shape[0]"
   ]
  },
  {
   "cell_type": "markdown",
   "metadata": {},
   "source": [
    "Todos los subdatasets tienen 25 columnas"
   ]
  },
  {
   "cell_type": "markdown",
   "metadata": {},
   "source": [
    "Veremos mas en detalle los barrios de estas zonas"
   ]
  },
  {
   "cell_type": "code",
   "execution_count": 179,
   "metadata": {},
   "outputs": [
    {
     "data": {
      "image/png": "[encoded data removed]",
      "text/plain": [
       "<Figure size 1440x720 with 1 Axes>"
      ]
     },
     "metadata": {},
     "output_type": "display_data"
    }
   ],
   "source": [
    "#ZONAS: TODAS\n",
    "\n",
    "plt.figure(figsize=(20,10))\n",
    "plt.style.use('ggplot')\n",
    "plt.subplot(3,1,1)\n",
    "sns.countplot(data = BA, y = 'l2' ,color='#8dbbf3')\n",
    "plt.xlabel('inmuebles', fontsize = 10)\n",
    "plt.xticks(fontsize = 10)\n",
    "plt.ylabel('zona', fontsize = 10)\n",
    "plt.yticks(rotation = 0, size = 10)\n",
    "plt.title('Distribucion de inmuebles por zonas',fontsize = 20, loc='center')\n",
    "plt.grid()\n",
    "plt.show()"
   ]
  },
  {
   "cell_type": "code",
   "execution_count": 161,
   "metadata": {},
   "outputs": [],
   "source": [
    "#ordenamos de mayor a menor para graficar\n",
    "ocaba = dcaba.groupby('l3').size().sort_values().index[::-1]\n",
    "onorte = dnorte.groupby('l3').size().sort_values().index[::-1]\n",
    "osur = dsur.groupby('l3').size().sort_values().index[::-1]\n",
    "ooeste = doeste.groupby('l3').size().sort_values().index[::-1]"
   ]
  },
  {
   "cell_type": "code",
   "execution_count": 174,
   "metadata": {},
   "outputs": [
    {
     "data": {
      "image/png": "[encoded data removed]",
      "text/plain": [
       "<Figure size 1872x504 with 3 Axes>"
      ]
     },
     "metadata": {},
     "output_type": "display_data"
    }
   ],
   "source": [
    "#sns.set_theme(style=\"ticks\")\n",
    "fig, axs = plt.subplots(ncols=3, figsize=(26, 7))\n",
    "\n",
    "sns.countplot(x='l3', data=dnorte, ax=axs[0], order=onorte, color='#81bbf3')\n",
    "axs[0].set_title('Zona Norte')\n",
    "\n",
    "sns.countplot(x='l3', data=doeste, ax=axs[1], order=ooeste, color='#81bbf3')\n",
    "axs[1].set_title('Zona Oeste')\n",
    "\n",
    "sns.countplot(x='l3', data=dsur, order=osur, ax=axs[2], color='#81bbf3')\n",
    "axs[2].set_title('Zona Sur')\n",
    "\n",
    "for ax in axs:\n",
    "    ax.tick_params(axis='x', rotation=45)\n",
    "plt.tight_layout()\n",
    "plt.show()"
   ]
  },
  {
   "cell_type": "code",
   "execution_count": 183,
   "metadata": {},
   "outputs": [
    {
     "data": {
      "image/png": "[encoded data removed]",
      "text/plain": [
       "<Figure size 6000x1200 with 1 Axes>"
      ]
     },
     "metadata": {},
     "output_type": "display_data"
    }
   ],
   "source": [
    "#ZONA: CAPITAL FEDERAL\n",
    "plt.figure(figsize=(200,40), dpi = 30)\n",
    "plt.style.use('fast')\n",
    "plt.subplot(2,2,1)\n",
    "sns.countplot(data = dcaba, x = 'l3', color='#81bbf3', order=ocaba)\n",
    "xlim=(0,100)\n",
    "plt.ylabel('Inmuebles', fontsize = 30)\n",
    "plt.yticks(fontsize = 25)\n",
    "plt.xlabel('Localidad/Barrio', fontsize = 30)\n",
    "plt.xticks(rotation = 90, fontsize = 30)\n",
    "plt.title('Zona: Capital Federal',fontsize = 50, loc='center')\n",
    "plt.grid()\n",
    "plt.show() #ver como agrandar la x y como hacer un grafico mejor"
   ]
  },
  {
   "cell_type": "code",
   "execution_count": null,
   "metadata": {},
   "outputs": [],
   "source": []
  },
  {
   "cell_type": "code",
   "execution_count": null,
   "metadata": {},
   "outputs": [],
   "source": []
  },
  {
   "cell_type": "markdown",
   "metadata": {},
   "source": [
    "<a id='du24' />\n",
    "\n",
    "## 2.4 - Verify data quality\n",
    "[(back to top)](#contents)"
   ]
  },
  {
   "cell_type": "markdown",
   "metadata": {},
   "source": [
    "Vamos a ver los valores faltantes por columna..."
   ]
  },
  {
   "cell_type": "code",
   "execution_count": 85,
   "metadata": {},
   "outputs": [
    {
     "data": {
      "text/plain": [
       "id                      0\n",
       "ad_type                 0\n",
       "start_date              0\n",
       "end_date                0\n",
       "created_on              0\n",
       "lat                 69172\n",
       "lon                 69211\n",
       "l1                      0\n",
       "l2                      0\n",
       "l3                   7382\n",
       "l4                 406641\n",
       "l5                 652122\n",
       "l6                 657652\n",
       "rooms              167026\n",
       "bedrooms           205350\n",
       "bathrooms          128343\n",
       "surface_total      304230\n",
       "surface_covered    297740\n",
       "price               13173\n",
       "currency            14180\n",
       "price_period       351765\n",
       "title                   0\n",
       "description            12\n",
       "property_type           0\n",
       "operation_type          0\n",
       "dtype: int64"
      ]
     },
     "execution_count": 85,
     "metadata": {},
     "output_type": "execute_result"
    }
   ],
   "source": [
    "BA.isna().sum()"
   ]
  },
  {
   "cell_type": "markdown",
   "metadata": {},
   "source": [
    "---"
   ]
  },
  {
   "cell_type": "markdown",
   "metadata": {
    "ExecuteTime": {
     "end_time": "2020-10-03T16:42:04.821924Z",
     "start_time": "2020-10-03T16:42:04.815942Z"
    }
   },
   "source": [
    "<a id='ml' />\n",
    "\n",
    "# 3. Data Preparation 🗄️\n",
    "[(back to top)](#contents)"
   ]
  },
  {
   "cell_type": "markdown",
   "metadata": {},
   "source": [
    "After you understand the data you have, it is time for the Data Preparation. This phase is what we did to prepare the data for the modeling phase. "
   ]
  },
  {
   "cell_type": "markdown",
   "metadata": {},
   "source": [
    "Los precios fueron sacados de [Yahoo Finance](https://finance.yahoo.com/), fundamentals de [Nasdaq Financials](https://www.nasdaq.com/), tambien se usaron base de datos de [EDGAR SEC](https://www.sec.gov/edgar/search-and-access)\n"
   ]
  },
  {
   "cell_type": "markdown",
   "metadata": {},
   "source": [
    "<a id='dp31' />\n",
    "\n",
    "## 3.1 - Data selection\n",
    "[(back to top)](#contents)"
   ]
  },
  {
   "cell_type": "markdown",
   "metadata": {},
   "source": [
    "Selecting the dataset, columns, and/or rows you would use. When you exclude data, make sure you have a valid explanation. The way you filter data should reflect the business question as well."
   ]
  },
  {
   "cell_type": "markdown",
   "metadata": {},
   "source": [
    "<a id='dp32' />\n",
    "\n",
    "## 3.2 - Data cleaning\n",
    "[(back to top)](#contents)"
   ]
  },
  {
   "cell_type": "markdown",
   "metadata": {},
   "source": [
    "Garbage-in, garbage-out — what happens if you did not clean the data properly. This is the task when you need to make sure your data is right. Cleaning data takes a lot of preparation and data understanding — you need a reason to correct data or impute new data. Your data science project should explain the steps you take to clean the data in detail. For me personally, I would take a closer look at this task when I am looking at the candidate."
   ]
  },
  {
   "cell_type": "markdown",
   "metadata": {},
   "source": [
    "<a id='dp33' />\n",
    "\n",
    "## 3.3 - Data engineering\n",
    "[(back to top)](#contents)"
   ]
  },
  {
   "cell_type": "markdown",
   "metadata": {
    "tags": []
   },
   "source": [
    "Feature engineering you might think interesting or helpful. Try to be creative when creating new data from existing data."
   ]
  },
  {
   "cell_type": "markdown",
   "metadata": {},
   "source": [
    "<a id='dp34' />\n",
    "\n",
    "## 3.4 - Data integration\n",
    "[(back to top)](#contents)"
   ]
  },
  {
   "cell_type": "markdown",
   "metadata": {
    "tags": []
   },
   "source": [
    "New data set from combining two or more data sets. It might be a lot harder to acquire the dataset from free resources, but it is possible."
   ]
  },
  {
   "cell_type": "markdown",
   "metadata": {},
   "source": [
    "<a id='dp35' />\n",
    "\n",
    "## 3.5 - Data formatting\n",
    "[(back to top)](#contents)"
   ]
  },
  {
   "cell_type": "markdown",
   "metadata": {},
   "source": [
    "Formatting data when you need it. For example, convert the categorical value into numerical value or vice versa. Don’t forget to state your reasoning."
   ]
  },
  {
   "cell_type": "markdown",
   "metadata": {},
   "source": [
    "---"
   ]
  },
  {
   "cell_type": "markdown",
   "metadata": {},
   "source": [
    "<a id='conclusiones' />\n",
    "\n",
    "# 4. Modeling 🏗️\n",
    "[(back to top)](#contents)"
   ]
  },
  {
   "cell_type": "markdown",
   "metadata": {},
   "source": [
    "\n",
    "El objetivo último de esta fase es construir un modelo que nos permita alcanzar los objetivos del proyecto.\n",
    "\n",
    "En esta fase deberemos ser capaces de:\n",
    "\n",
    "Seleccionar las técnicas de modelado más adecuadas para nuestro juego de datos y nuestros objetivos.\n",
    "Fijar una estrategia de veriﬁcación de la calidad del modelo.\n",
    "Construir un modelo a partir de la aplicación de las técnicas seleccionadas sobre el juego de datos.\n",
    "Ajustar el modelo evaluando su ﬁabilidad y su impacto en los objetivos anteriormente establecidos.\n",
    "Nos encontramos ante un problema de clasificación. Aplicaremos un método de aprendizaje supervisado, concretamente el clasificador RandomForest, para predecir el diagnóstico de cáncer de mama (tumor benigno o maligno), usando el conjunto de datos original con todos los atributos.\n",
    "\n",
    "Dividimos las observaciones en un conjunto de entrenamiento para construir el modelo y otro conjunto de test para evaluarlo. Para ello, a partir de dataset inicial tomaremos el 75% de las observaciones junto con su etiqueta de clase asociada para el conjunto de entrenamiento. El 25% restante se asignan al conjunto de test.\n",
    "\n",
    "La implementación la realizaremos en Python, utilizando la librería sckit-learn.\n"
   ]
  },
  {
   "cell_type": "markdown",
   "metadata": {},
   "source": [
    "For many data enthusiasts out there, the Modeling phase might be the most exciting — well, it is. However, this phase is shorter compared to the other phase we just passed previously. In this phase, we would develop our machine learning model/product to answer the business question."
   ]
  },
  {
   "cell_type": "markdown",
   "metadata": {},
   "source": [
    "<a id='m41' />\n",
    "\n",
    "## 4.1 - Model selection\n",
    "[(back to top)](#contents)"
   ]
  },
  {
   "cell_type": "markdown",
   "metadata": {},
   "source": [
    "Using which machine learning algorithms to try. You might want to experiment with many models. It would be desirable if you could explain why you select a certain algorithm."
   ]
  },
  {
   "cell_type": "markdown",
   "metadata": {},
   "source": [
    "<a id='m42' />\n",
    "\n",
    "## 4.2 - Test desing\n",
    "[(back to top)](#contents)"
   ]
  },
  {
   "cell_type": "markdown",
   "metadata": {},
   "source": [
    "Design your modeling test design by splitting the data into training, test, validation sets, or cross-validation. Justify the reason for how you design the test."
   ]
  },
  {
   "cell_type": "markdown",
   "metadata": {},
   "source": [
    "<a id='m43' />\n",
    "\n",
    "## 4.3 - Model development\n",
    "[(back to top)](#contents)"
   ]
  },
  {
   "cell_type": "markdown",
   "metadata": {},
   "source": [
    "Fit your model using the data you have prepared. Manage your resources well here — it might take a long time, depend on your data and your experiment design. The development should consider how the business question and industrial scene would be as well, such as “Would the model I develop is possible in the business,” “Is the resources I need to develop this model is costly?” etc."
   ]
  },
  {
   "cell_type": "markdown",
   "metadata": {},
   "source": [
    "<a id='m44' />\n",
    "\n",
    "## 4.4 - Model assessment\n",
    "[(back to top)](#contents)"
   ]
  },
  {
   "cell_type": "markdown",
   "metadata": {},
   "source": [
    "Set your success technical metrics and choose the best model(s) viable for solving the business question. Try to explain why you decide on certain metrics and why not the other."
   ]
  },
  {
   "cell_type": "markdown",
   "metadata": {},
   "source": [
    "---"
   ]
  },
  {
   "cell_type": "markdown",
   "metadata": {},
   "source": [
    "<a id='evaluation' />\n",
    "\n",
    "# 5. Evaluation 📊\n",
    "[(back to top)](#contents)"
   ]
  },
  {
   "cell_type": "markdown",
   "metadata": {},
   "source": [
    "En esta fase nos centrarnos en evaluar el grado de acercamiento del modelo a los objetivos de negocio.\n",
    "\n",
    "En esta fase deberemos ser capaces de:\n",
    "\n",
    "Evaluar el modelo o modelos generados hasta el momento.\n",
    "Revisar todo el proceso de minería de datos que nos ha llevado hasta este punto.\n",
    "Establecer los siguientes pasos a tomar, tanto si se trata de repetir fases anteriores como si se trata de abrir nuevas líneas de investigación.\n",
    "Siguiendo nuestro ejemplo, para la evaluación del modelo calcularemos una serie de métricas sobre un conjunto de datos (conjunto de test) que el modelo no conoce. Métricas habituales son la precisión (accuracy), sensibilidad y F-score:"
   ]
  },
  {
   "cell_type": "markdown",
   "metadata": {},
   "source": [
    "The Evaluation phase is different from the Modeling technical evaluation. This phase evaluates the model concerning the business indicator and what to do next."
   ]
  },
  {
   "cell_type": "markdown",
   "metadata": {},
   "source": [
    "<a id='e51' />\n",
    "\n",
    "## 5.1 - Evaluate results\n",
    "[(back to top)](#contents)"
   ]
  },
  {
   "cell_type": "markdown",
   "metadata": {},
   "source": [
    "Would the business success criteria be met using your model? which model(s) would you choose?. This is the phase when you should explain how your model would help the business. Explain it as realistic as possible, and don’t use too much technical jargon that people outside of the data world could understand."
   ]
  },
  {
   "cell_type": "markdown",
   "metadata": {},
   "source": [
    "<a id='e52' />\n",
    "\n",
    "## 5.2 - Review process\n",
    "[(back to top)](#contents)"
   ]
  },
  {
   "cell_type": "markdown",
   "metadata": {},
   "source": [
    "Review your work process. Was anything missing? Need more time? Were all phases executed? Try to Summarize your findings and correct anything if required. Your first data science project iteration did not need to be the perfect one. Learning from the mistake is part of the process and what the company wants to see as well."
   ]
  },
  {
   "cell_type": "markdown",
   "metadata": {},
   "source": [
    "<a id='e53' />\n",
    "\n",
    "## 5.3 - Determine next steps\n",
    "[(back to top)](#contents)"
   ]
  },
  {
   "cell_type": "markdown",
   "metadata": {},
   "source": [
    "Based on the previous tasks, decide if the model is ready for deployment, needs more iteration, or just creates a new project."
   ]
  },
  {
   "cell_type": "markdown",
   "metadata": {},
   "source": [
    "---"
   ]
  },
  {
   "cell_type": "markdown",
   "metadata": {},
   "source": [
    "<a id='deployment' />\n",
    "\n",
    "# 6. Deployment 📜\n",
    "[(back to top)](#contents)"
   ]
  },
  {
   "cell_type": "markdown",
   "metadata": {},
   "source": [
    "El objetivo último de esta fase es realizar el despliegue de los resultados obtenidos de forma que sea propagado a los usuarios finales así como el mantenimiento del mismo una vez el despliegue haya finalizado.\n",
    "\n",
    "En esta fase deberemos ser capaces de:\n",
    "\n",
    "Diseñar un plan de despliegue de modelos y conocimiento sobre nuestra organización.\n",
    "Realizar seguimiento y mantenimiento de la parte más operativa del despliegue.\n",
    "Revisar el proyecto en su globalidad con el objetivo de identiﬁcar lecciones aprendidas.\n",
    "Siguiendo con nuestro ejemplo el despliegue de la solución implicaría tareas como:\n",
    "\n",
    "Implantación de un sistema de captura digital de la imagen de anatomía patológica.\n",
    "Implantación de software de clasificación automática de tejidos de cáncer de mama.\n",
    "Integración con el software del laboratorio de anatomía patológica.\n",
    "Implantación de nuevos procedimientos operativos del laboratorio de anatomía patológica.\n",
    "Monitorización del funcionamiento del nuevo sistema y grado de adherencia de los usuarios al mismo.\n",
    "Medición del grado de precisión diagnóstica y la eficiencia del laboratorio tras la puesta en marcha del sistema."
   ]
  },
  {
   "cell_type": "markdown",
   "metadata": {},
   "source": [
    "You might have the best model in the world, but if your user/customer could not access the model result, it is useless. This phase might seem too much for a fresher, but if you could build a realistic enough concept, it would score you many points with the company. "
   ]
  },
  {
   "cell_type": "markdown",
   "metadata": {},
   "source": [
    "<a id='d61' />\n",
    "\n",
    "## 6.1 - Deployment \n",
    "[(back to top)](#contents)"
   ]
  },
  {
   "cell_type": "markdown",
   "metadata": {},
   "source": [
    "How would you like to deploy the model? How is the result presented or delivered? Try to plan and document the process."
   ]
  },
  {
   "cell_type": "markdown",
   "metadata": {},
   "source": [
    "<a id='d62' />\n",
    "\n",
    "## 6.2 - Monitoring and maintenance \n",
    "[(back to top)](#contents)"
   ]
  },
  {
   "cell_type": "markdown",
   "metadata": {},
   "source": [
    "What is the monitoring and maintenance plan going to be like? Monitoring the result and maintaining the model quality is as important as any other phase. Businesses don’t want the model to become a burden."
   ]
  },
  {
   "cell_type": "markdown",
   "metadata": {},
   "source": [
    "<a id='d63' />\n",
    "\n",
    "## 6.3 - Final report\n",
    "[(back to top)](#contents)"
   ]
  },
  {
   "cell_type": "markdown",
   "metadata": {},
   "source": [
    "Conclude the project by creating the summary report, create the presentation, and try to present it to someone you know."
   ]
  },
  {
   "cell_type": "markdown",
   "metadata": {},
   "source": [
    "<a id='d64' />\n",
    "\n",
    "## 6.4 - Review \n",
    "[(back to top)](#contents)"
   ]
  },
  {
   "cell_type": "markdown",
   "metadata": {},
   "source": [
    "Review the project by thinking about what is good, what you could improve, and what you think is lacking. Determine if the project needs more iteration or only needs frequent maintenance."
   ]
  },
  {
   "cell_type": "markdown",
   "metadata": {},
   "source": [
    "---"
   ]
  },
  {
   "cell_type": "markdown",
   "metadata": {
    "tags": []
   },
   "source": [
    "#### *References*"
   ]
  },
  {
   "cell_type": "markdown",
   "metadata": {},
   "source": [
    "* https://towardsdatascience.com/crisp-dm-methodology-for-your-first-data-science-project-769f35e0346c"
   ]
  },
  {
   "cell_type": "markdown",
   "metadata": {},
   "source": [
    "* https://www.datascience-pm.com/crisp-dm-2/"
   ]
  },
  {
   "cell_type": "markdown",
   "metadata": {},
   "source": [
    "* https://medium.com/@eiki1212/eda-data-mining-workflow-for-data-science-82b70d67f4ac"
   ]
  },
  {
   "cell_type": "code",
   "execution_count": null,
   "metadata": {},
   "outputs": [],
   "source": []
  }
 ],
 "metadata": {
  "kernelspec": {
   "display_name": "Python 3 (ipykernel)",
   "language": "python",
   "name": "python3"
  },
  "language_info": {
   "codemirror_mode": {
    "name": "ipython",
    "version": 3
   },
   "file_extension": ".py",
   "mimetype": "text/x-python",
   "name": "python",
   "nbconvert_exporter": "python",
   "pygments_lexer": "ipython3",
   "version": "3.8.12"
  },
  "varInspector": {
   "cols": {
    "lenName": 16,
    "lenType": 16,
    "lenVar": 40
   },
   "kernels_config": {
    "python": {
     "delete_cmd_postfix": "",
     "delete_cmd_prefix": "del ",
     "library": "var_list.py",
     "varRefreshCmd": "print(var_dic_list())"
    },
    "r": {
     "delete_cmd_postfix": ") ",
     "delete_cmd_prefix": "rm(",
     "library": "var_list.r",
     "varRefreshCmd": "cat(var_dic_list()) "
    }
   },
   "types_to_exclude": [
    "module",
    "function",
    "builtin_function_or_method",
    "instance",
    "_Feature"
   ],
   "window_display": false
  }
 },
 "nbformat": 4,
 "nbformat_minor": 4
}
