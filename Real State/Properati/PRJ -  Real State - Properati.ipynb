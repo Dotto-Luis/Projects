{
 "cells": [
  {
   "cell_type": "markdown",
   "metadata": {
    "tags": []
   },
   "source": [
    "<a href=\"https://colab.research.google.com/drive/1O6_a3Dvvgw3Yvctq696dLATtR5gAQrRJ\" target=\"_parent\"><img src=\"https://colab.research.google.com/assets/colab-badge.svg\" alt=\"Open In Colab\"/></a>"
   ]
  },
  {
   "cell_type": "markdown",
   "metadata": {},
   "source": [
    "<h1 style=\"text-align: center;\">Real State - Properarti\n",
    "</h1>"
   ]
  },
  {
   "cell_type": "markdown",
   "metadata": {
    "colab_type": "text",
    "id": "38tA-ErIC4OD"
   },
   "source": [
    "<img \n",
    "    style=\"display: block; \n",
    "           margin-left: auto;\n",
    "           margin-right: auto;\n",
    "           width: 70%;\"\n",
    "    src=\"http://flowinsurance.com/wp-content/uploads/2018/10/Real-Estate-Investing.jpg\" \n",
    "    alt=\"Our logo\">\n",
    "</img>"
   ]
  },
  {
   "cell_type": "markdown",
   "metadata": {
    "ExecuteTime": {
     "end_time": "2020-10-03T16:38:50.256411Z",
     "start_time": "2020-10-03T16:38:50.250466Z"
    }
   },
   "source": [
    "<a id='contents' />\n",
    "\n",
    "## 📚 Contents\n",
    "\n",
    "* [1 - BUSINESS UNDERSTANDING](#pensando)\n",
    "   * [1.1 - Determinate business question and objetive](#bu11)\n",
    "   * [1.2 - Situation assessment](#bu12)\n",
    "   * [1.3 - Determine the project goals](#bu13)    \n",
    "   * [1.4 - Project plan](#bu14)    \n",
    "\n",
    "\n",
    "* [2 - DATA UNDERSTANDING](#eda)\n",
    "    * [2.1 - Collect data](#du21)\n",
    "    * [2.2 - Describe data](#du22)\n",
    "    * [2.3 - Explore data](#du23)\n",
    "    * [2.4 - Verify data quality](#du24)\n",
    "\n",
    "\n",
    "\n",
    "* [3 - DATA PREPARATION](#ml)\n",
    "    * [3.1 - Data selection](#dp31)\n",
    "    * [3.2 - Data cleaning](#dp32)\n",
    "    * [3.3 - Feature engineering](#dp33)\n",
    "    * [3.4 - Data integration](#dp34)\n",
    "    * [3.5 - Data formatting](#dp35)\n",
    "\n",
    "\n",
    "* [4 - MODELING](#conclusiones)\n",
    "    * [4.1 - Model selection](#m41)\n",
    "    * [4.2 - Test desing](#m42)\n",
    "    * [4.3 - Model development](#m43)\n",
    "    * [4.4 - Model assessment](#m44)\n",
    "\n",
    "\n",
    "* [5 - EVALUATION](#evaluation)\n",
    "    * [5.1 - Evaluate results](#e51)\n",
    "    * [5.2 - Review process](#e52)\n",
    "    * [5.3 - Determine next steps](#e53)\n",
    "\n",
    "\n",
    "* [6 - DEPLOYMENT](#deployment)\n",
    "    * [6.1 - Deployment](#d61)\n",
    "    * [6.2 - Monitoring and maintenance](#d62)\n",
    "    * [6.3 - Final report](#d63)\n",
    "    * [6.4 - Review](#d64)"
   ]
  },
  {
   "cell_type": "markdown",
   "metadata": {},
   "source": [
    "___"
   ]
  },
  {
   "cell_type": "markdown",
   "metadata": {
    "ExecuteTime": {
     "end_time": "2020-10-03T16:40:42.562435Z",
     "start_time": "2020-10-03T16:40:42.556456Z"
    },
    "tags": []
   },
   "source": [
    "<a id='pensando' />\n",
    "\n",
    "# 1. Business Understanding ⁉️\n",
    "[(back to top)](#contents)"
   ]
  },
  {
   "cell_type": "markdown",
   "metadata": {},
   "source": [
    "### Contexto\n",
    "\n",
    "Hay que tener en cuenta que el real estate comprende tanto los terrenos, como la edificaciones, los recursos naturales y otras mejoras que se encuentren en la propiedad. Por lo tanto, real estate se utiliza para referirse a todas las actividades relacionadas con la compraventa de activos inmobiliarios.\n",
    "\n",
    "\n",
    "Además, es posible distinguir entre 3 categorías de real estate:\n",
    "\n",
    "- Residencial: incluye las tierras sin construir, las casas, los condominios, etc.\n",
    "\n",
    "- Comercial: incluye estructuras no residenciales como las oficinas, los almacenes o los centros logísticos, es decir propiedades que producen ingresos.\n",
    "\n",
    "- Industrial: incluye fábricas, parques empresariales, granjas o minas. Por lo general, éstas son las propiedades que tienen una mayor extensión.\n",
    "\n",
    "En resumen, se prevé que el sector del real estate seguirá evolucionando, tal y como lleva haciendo desde hace siglos, para dar respuesta a las necesidades cambiantes de la sociedad.\n",
    "\n",
    "\n",
    "Recientemente te has incorporado al equipo de Datos de una gran inmobiliaria. La primera tarea que se te asigna es ayudar a los tasadores/as a valuar las propiedades, ya que es un proceso difícil y, a veces, subjetivo. Para ello, propones crear un modelo de Machine Learning que, dadas ciertas características de la propiedad, prediga su precio de venta.\n",
    "\n",
    "En el presente proyecto se toma utilizan datasets de la empresa [Properati](www.properati.com.ar)\n"
   ]
  },
  {
   "cell_type": "markdown",
   "metadata": {},
   "source": [
    "[Properati](www.properati.com.ar)"
   ]
  },
  {
   "cell_type": "markdown",
   "metadata": {},
   "source": [
    "<a id='bu11' />\n",
    "\n",
    "## 1.1 - Determinate business question and objetive\n",
    "[(back to top)](#contents)"
   ]
  },
  {
   "cell_type": "markdown",
   "metadata": {},
   "source": [
    "El objetivo del negocio es **ayudar a los tasadores a predecir el precio de venta de los inmuebles**."
   ]
  },
  {
   "cell_type": "markdown",
   "metadata": {},
   "source": [
    "Primero me planteo ¿Qué datos crees que te ayudarían a trabajar en el problema?¿Por qué?"
   ]
  },
  {
   "cell_type": "markdown",
   "metadata": {},
   "source": [
    "Para no contrastar el modelo con mi subjetividad, buscaría diversos enfoques para evaluar los datos que estan mas relacionados en la tasacion. \n",
    "Primero consultaria con ellos, que son los profesionales, para saber que metricas piensan que son mas relevantes a la hora de estimar el valor. Haria una lista de la informacion que me brinden. Adicionalmente contactaria con amigos/conocidos del rubro inmoviliario para que me den sus opiniones. Tambien buscaria obtener bases de datos de la competencia o datos publicos del gobierno. \n",
    "\n",
    "Creo que datos como la superficie, el lugar, la antiguedad, amenities, tipo de propiedad, indices macroeconomicos del sector y el pais, densidad poblacional y precios de inmuebles aledaños me ayudarian por que la valuacion es una cuestion economica. Habria que ver la demanda del sector y que atributos consideran los consumidores a la hora de elegir un inmueble.\n",
    "\n",
    "Luego buscaria relaciones entre las variables para ver si hay atributos que estan correlacionados con el valor de un inmueble y su ponderacion."
   ]
  },
  {
   "cell_type": "markdown",
   "metadata": {},
   "source": [
    "<a id='bu12' />\n",
    "\n",
    "## 1.2 - Situation assessment\n",
    "[(back to top)](#contents)"
   ]
  },
  {
   "cell_type": "markdown",
   "metadata": {},
   "source": [
    "Al ingresar a un trabajo se te plantea una problematica en particular, siendo esta la de ayudar a tasadores de la empresa Properati a valuar propiedades. Pero haciendo un analisis global de la situacion nos encontramos con diversos universos que entran en juego. Es menester no solo saber las problematicas del equipo al cual te incorporaste recientemente, sino tambien saber las necesidades de los clientes y de la empresa Porperti, como asi del sector en el cual se encuentran inmersos. Identificando estos 3 universos como datos en casos de estudio tenemos:\n",
    "\n",
    "1 - Datos de la empresa en la que se trabaja (Properati)\n",
    "\n",
    "2 - Datos de la competencia (zonajobs, argenprop, mercadolibre, etc) (Benchmarking web scraping)\n",
    "\n",
    "3 - Datos de potenciales compradores. (Bayes)\n",
    "\n",
    "Tenemos que saber las limitaciones de nuestros datos para estar mas seguros de nuestras conclusiones. Los datasets brindados por properarti nos pueden suponer un riesgo a la hora de sacar conclusiones apresuradas, quizas otros proveedores tambien tengan informacion. Debemos ser conscientes de que el riesgo de sesgo esta. Como contingencia tambien podemos aplicar el presente proyecto tomando data de otras fuentes.\n",
    "\n",
    "El proyecto no requiere costos mas que las horas utilizadas en el mismo, tampoco a la escala realizada se deben emplear herramientas pagas. Al estar en un equipo de la empresa tenedremos ya acceso a la informacion. Podria suponer un costo adicional de horas, recursos y dinero si queremos escalar el proyecto con mas grado de profundidad. Por ejemplo podriamos analizar la demanda de los consumidores en inmuebles en ciertas zonas, numero de busquedas en internet sobre compra/venta. Tambien podriamos analizar la variacion en el precio del usd, accesibilidad de creditos hipotecarios o incluso variaciones en los indices de construccion de cada pais en el tiempo segun las situaciones macroeconomicas de los mismos.\n",
    "\n"
   ]
  },
  {
   "cell_type": "markdown",
   "metadata": {},
   "source": [
    "<a id='bu13' />\n",
    "\n",
    "## 1.3 - Determine the project goals\n",
    "[(back to top)](#contents)"
   ]
  },
  {
   "cell_type": "markdown",
   "metadata": {},
   "source": [
    "What the technical data mining perspective success criteria. You could set it based on model metrics or availability time or anything as long as you could explain it — what is important is that it logically sounded."
   ]
  },
  {
   "cell_type": "markdown",
   "metadata": {},
   "source": [
    "<a id='bu14' />\n",
    "\n",
    "## 1.4 - Project Plan\n",
    "[(back to top)](#contents)"
   ]
  },
  {
   "cell_type": "markdown",
   "metadata": {},
   "source": [
    "Try to create a detailed plan for each project phase and what kind of tools you would use."
   ]
  },
  {
   "cell_type": "markdown",
   "metadata": {},
   "source": [
    "---"
   ]
  },
  {
   "cell_type": "markdown",
   "metadata": {
    "ExecuteTime": {
     "end_time": "2020-10-03T16:41:37.935073Z",
     "start_time": "2020-10-03T16:41:37.929129Z"
    }
   },
   "source": [
    "<a id='eda' />\n",
    "\n",
    "# 2. Data Understanding 🔍\n",
    "[(back to top)](#contents)"
   ]
  },
  {
   "cell_type": "markdown",
   "metadata": {
    "colab_type": "text",
    "id": "LvPBQzg5C4OI"
   },
   "source": [
    "\n",
    "Dos puntos clave en esta fase: conocer los datos, estructura y distribución, y la calidad de los mismos.\n",
    "\n",
    "En esta fase deberemos ser capaces de:\n",
    "\n",
    "Ejecutar procesos de captura de datos.\n",
    "Proporcionar una descripción del juego de datos.\n",
    "Realizar tareas de exploración de datos.\n",
    "Gestionar la calidad de los datos, identiﬁcando problemas y proporcionando soluciones.\n",
    "El proyecto se basará en el Breast Cancer Winscosin Data Set. Está formado por un conjunto de 569 observaciones con 30 variables de tipo real. El conjunto de datos no presenta valores nulos.\n",
    "\n",
    "Las variables se calculan a partir de una imagen digitalizada de un aspirado con aguja fina (FNA) de una masa mamaria. Describen las características de los núcleos celulares presentes en la imagen.\n",
    "\n",
    "Las variables son las siguientes:\n",
    "\n",
    "Radio\n",
    "Textura\n",
    "Perímetro\n",
    "Área\n",
    "Suavidad\n",
    "Compacidad\n",
    "Concavidad"
   ]
  },
  {
   "cell_type": "markdown",
   "metadata": {},
   "source": [
    "Dataset consists of following files:\n",
    "\n",
    "- **prices.csv**: raw, as-is daily prices. Most of data spans from 2010 to the end 2016, for companies new on stock market date range is shorter. There have been approx. 140 stock splits in that time, this set doesn't account for that.\n",
    "- **prices-split-adjusted.csv**: same as prices, but there have been added adjustments for splits.\n",
    "- **securities.csv**: general description of each company with division on sectors\n",
    "- **fundamentals.csv**: metrics extracted from annual SEC 10K fillings (2012-2016), should be enough to derive most of popular fundamental indicators."
   ]
  },
  {
   "cell_type": "markdown",
   "metadata": {},
   "source": [
    "<a id='du21' />\n",
    "\n",
    "## 2.1 - Collect data\n",
    "[(back to top)](#contents)"
   ]
  },
  {
   "cell_type": "markdown",
   "metadata": {},
   "source": [
    "Acquire the data. As I mentioned previously — For people outside the company, the data we want would not be available; in this case, you could either try to collect the data or using the available data from free resources and build your project based on it. You need to work with what you have."
   ]
  },
  {
   "cell_type": "markdown",
   "metadata": {},
   "source": [
    "<a id='du22' />\n",
    "\n",
    "## 2.2 - Describe data\n",
    "[(back to top)](#contents)"
   ]
  },
  {
   "cell_type": "markdown",
   "metadata": {},
   "source": [
    " Examine the data format, number of rows and columns, field identities, and available features. Try to describe the data you have at a glance."
   ]
  },
  {
   "cell_type": "markdown",
   "metadata": {},
   "source": [
    "<a id='du23' />\n",
    "\n",
    "## 2.3 - Explore data\n",
    "[(back to top)](#contents)"
   ]
  },
  {
   "cell_type": "markdown",
   "metadata": {},
   "source": [
    "Exploring the data. Describe the relationship between data, visualize the data, and be creative. What is important is your data exploration could verify the business question."
   ]
  },
  {
   "cell_type": "markdown",
   "metadata": {},
   "source": [
    "<a id='du24' />\n",
    "\n",
    "## 2.4 - Verify data quality\n",
    "[(back to top)](#contents)"
   ]
  },
  {
   "cell_type": "markdown",
   "metadata": {},
   "source": [
    "How is your data quality? Many missing values? Is the data collection appropriate enough?. Make sure that the data is past your quality threshold."
   ]
  },
  {
   "cell_type": "markdown",
   "metadata": {},
   "source": [
    "---"
   ]
  },
  {
   "cell_type": "markdown",
   "metadata": {
    "ExecuteTime": {
     "end_time": "2020-10-03T16:42:04.821924Z",
     "start_time": "2020-10-03T16:42:04.815942Z"
    }
   },
   "source": [
    "<a id='ml' />\n",
    "\n",
    "# 3. Data Preparation 🗄️\n",
    "[(back to top)](#contents)"
   ]
  },
  {
   "cell_type": "markdown",
   "metadata": {},
   "source": [
    "After you understand the data you have, it is time for the Data Preparation. This phase is what we did to prepare the data for the modeling phase. "
   ]
  },
  {
   "cell_type": "markdown",
   "metadata": {},
   "source": [
    "Los precios fueron sacados de [Yahoo Finance](https://finance.yahoo.com/), fundamentals de [Nasdaq Financials](https://www.nasdaq.com/), tambien se usaron base de datos de [EDGAR SEC](https://www.sec.gov/edgar/search-and-access)\n"
   ]
  },
  {
   "cell_type": "markdown",
   "metadata": {},
   "source": [
    "<a id='dp31' />\n",
    "\n",
    "## 3.1 - Data selection\n",
    "[(back to top)](#contents)"
   ]
  },
  {
   "cell_type": "markdown",
   "metadata": {},
   "source": [
    "Selecting the dataset, columns, and/or rows you would use. When you exclude data, make sure you have a valid explanation. The way you filter data should reflect the business question as well."
   ]
  },
  {
   "cell_type": "markdown",
   "metadata": {},
   "source": [
    "<a id='dp32' />\n",
    "\n",
    "## 3.2 - Data cleaning\n",
    "[(back to top)](#contents)"
   ]
  },
  {
   "cell_type": "markdown",
   "metadata": {},
   "source": [
    "Garbage-in, garbage-out — what happens if you did not clean the data properly. This is the task when you need to make sure your data is right. Cleaning data takes a lot of preparation and data understanding — you need a reason to correct data or impute new data. Your data science project should explain the steps you take to clean the data in detail. For me personally, I would take a closer look at this task when I am looking at the candidate."
   ]
  },
  {
   "cell_type": "markdown",
   "metadata": {},
   "source": [
    "<a id='dp33' />\n",
    "\n",
    "## 3.3 - Data engineering\n",
    "[(back to top)](#contents)"
   ]
  },
  {
   "cell_type": "markdown",
   "metadata": {
    "tags": []
   },
   "source": [
    "Feature engineering you might think interesting or helpful. Try to be creative when creating new data from existing data."
   ]
  },
  {
   "cell_type": "markdown",
   "metadata": {},
   "source": [
    "<a id='dp34' />\n",
    "\n",
    "## 3.4 - Data integration\n",
    "[(back to top)](#contents)"
   ]
  },
  {
   "cell_type": "markdown",
   "metadata": {
    "tags": []
   },
   "source": [
    "New data set from combining two or more data sets. It might be a lot harder to acquire the dataset from free resources, but it is possible."
   ]
  },
  {
   "cell_type": "markdown",
   "metadata": {},
   "source": [
    "<a id='dp35' />\n",
    "\n",
    "## 3.5 - Data formatting\n",
    "[(back to top)](#contents)"
   ]
  },
  {
   "cell_type": "markdown",
   "metadata": {},
   "source": [
    "Formatting data when you need it. For example, convert the categorical value into numerical value or vice versa. Don’t forget to state your reasoning."
   ]
  },
  {
   "cell_type": "markdown",
   "metadata": {},
   "source": [
    "---"
   ]
  },
  {
   "cell_type": "markdown",
   "metadata": {},
   "source": [
    "<a id='conclusiones' />\n",
    "\n",
    "# 4. Modeling 🏗️\n",
    "[(back to top)](#contents)"
   ]
  },
  {
   "cell_type": "markdown",
   "metadata": {},
   "source": [
    "\n",
    "El objetivo último de esta fase es construir un modelo que nos permita alcanzar los objetivos del proyecto.\n",
    "\n",
    "En esta fase deberemos ser capaces de:\n",
    "\n",
    "Seleccionar las técnicas de modelado más adecuadas para nuestro juego de datos y nuestros objetivos.\n",
    "Fijar una estrategia de veriﬁcación de la calidad del modelo.\n",
    "Construir un modelo a partir de la aplicación de las técnicas seleccionadas sobre el juego de datos.\n",
    "Ajustar el modelo evaluando su ﬁabilidad y su impacto en los objetivos anteriormente establecidos.\n",
    "Nos encontramos ante un problema de clasificación. Aplicaremos un método de aprendizaje supervisado, concretamente el clasificador RandomForest, para predecir el diagnóstico de cáncer de mama (tumor benigno o maligno), usando el conjunto de datos original con todos los atributos.\n",
    "\n",
    "Dividimos las observaciones en un conjunto de entrenamiento para construir el modelo y otro conjunto de test para evaluarlo. Para ello, a partir de dataset inicial tomaremos el 75% de las observaciones junto con su etiqueta de clase asociada para el conjunto de entrenamiento. El 25% restante se asignan al conjunto de test.\n",
    "\n",
    "La implementación la realizaremos en Python, utilizando la librería sckit-learn.\n"
   ]
  },
  {
   "cell_type": "markdown",
   "metadata": {},
   "source": [
    "For many data enthusiasts out there, the Modeling phase might be the most exciting — well, it is. However, this phase is shorter compared to the other phase we just passed previously. In this phase, we would develop our machine learning model/product to answer the business question."
   ]
  },
  {
   "cell_type": "markdown",
   "metadata": {},
   "source": [
    "<a id='m41' />\n",
    "\n",
    "## 4.1 - Model selection\n",
    "[(back to top)](#contents)"
   ]
  },
  {
   "cell_type": "markdown",
   "metadata": {},
   "source": [
    "Using which machine learning algorithms to try. You might want to experiment with many models. It would be desirable if you could explain why you select a certain algorithm."
   ]
  },
  {
   "cell_type": "markdown",
   "metadata": {},
   "source": [
    "<a id='m42' />\n",
    "\n",
    "## 4.2 - Test desing\n",
    "[(back to top)](#contents)"
   ]
  },
  {
   "cell_type": "markdown",
   "metadata": {},
   "source": [
    "Design your modeling test design by splitting the data into training, test, validation sets, or cross-validation. Justify the reason for how you design the test."
   ]
  },
  {
   "cell_type": "markdown",
   "metadata": {},
   "source": [
    "<a id='m43' />\n",
    "\n",
    "## 4.3 - Model development\n",
    "[(back to top)](#contents)"
   ]
  },
  {
   "cell_type": "markdown",
   "metadata": {},
   "source": [
    "Fit your model using the data you have prepared. Manage your resources well here — it might take a long time, depend on your data and your experiment design. The development should consider how the business question and industrial scene would be as well, such as “Would the model I develop is possible in the business,” “Is the resources I need to develop this model is costly?” etc."
   ]
  },
  {
   "cell_type": "markdown",
   "metadata": {},
   "source": [
    "<a id='m44' />\n",
    "\n",
    "## 4.4 - Model assessment\n",
    "[(back to top)](#contents)"
   ]
  },
  {
   "cell_type": "markdown",
   "metadata": {},
   "source": [
    "Set your success technical metrics and choose the best model(s) viable for solving the business question. Try to explain why you decide on certain metrics and why not the other."
   ]
  },
  {
   "cell_type": "markdown",
   "metadata": {},
   "source": [
    "---"
   ]
  },
  {
   "cell_type": "markdown",
   "metadata": {},
   "source": [
    "<a id='evaluation' />\n",
    "\n",
    "# 5. Evaluation 📊\n",
    "[(back to top)](#contents)"
   ]
  },
  {
   "cell_type": "markdown",
   "metadata": {},
   "source": [
    "En esta fase nos centrarnos en evaluar el grado de acercamiento del modelo a los objetivos de negocio.\n",
    "\n",
    "En esta fase deberemos ser capaces de:\n",
    "\n",
    "Evaluar el modelo o modelos generados hasta el momento.\n",
    "Revisar todo el proceso de minería de datos que nos ha llevado hasta este punto.\n",
    "Establecer los siguientes pasos a tomar, tanto si se trata de repetir fases anteriores como si se trata de abrir nuevas líneas de investigación.\n",
    "Siguiendo nuestro ejemplo, para la evaluación del modelo calcularemos una serie de métricas sobre un conjunto de datos (conjunto de test) que el modelo no conoce. Métricas habituales son la precisión (accuracy), sensibilidad y F-score:"
   ]
  },
  {
   "cell_type": "markdown",
   "metadata": {},
   "source": [
    "The Evaluation phase is different from the Modeling technical evaluation. This phase evaluates the model concerning the business indicator and what to do next."
   ]
  },
  {
   "cell_type": "markdown",
   "metadata": {},
   "source": [
    "<a id='e51' />\n",
    "\n",
    "## 5.1 - Evaluate results\n",
    "[(back to top)](#contents)"
   ]
  },
  {
   "cell_type": "markdown",
   "metadata": {},
   "source": [
    "Would the business success criteria be met using your model? which model(s) would you choose?. This is the phase when you should explain how your model would help the business. Explain it as realistic as possible, and don’t use too much technical jargon that people outside of the data world could understand."
   ]
  },
  {
   "cell_type": "markdown",
   "metadata": {},
   "source": [
    "<a id='e52' />\n",
    "\n",
    "## 5.2 - Review process\n",
    "[(back to top)](#contents)"
   ]
  },
  {
   "cell_type": "markdown",
   "metadata": {},
   "source": [
    "Review your work process. Was anything missing? Need more time? Were all phases executed? Try to Summarize your findings and correct anything if required. Your first data science project iteration did not need to be the perfect one. Learning from the mistake is part of the process and what the company wants to see as well."
   ]
  },
  {
   "cell_type": "markdown",
   "metadata": {},
   "source": [
    "<a id='e53' />\n",
    "\n",
    "## 5.3 - Determine next steps\n",
    "[(back to top)](#contents)"
   ]
  },
  {
   "cell_type": "markdown",
   "metadata": {},
   "source": [
    "Based on the previous tasks, decide if the model is ready for deployment, needs more iteration, or just creates a new project."
   ]
  },
  {
   "cell_type": "markdown",
   "metadata": {},
   "source": [
    "---"
   ]
  },
  {
   "cell_type": "markdown",
   "metadata": {},
   "source": [
    "<a id='deployment' />\n",
    "\n",
    "# 6. Deployment 📜\n",
    "[(back to top)](#contents)"
   ]
  },
  {
   "cell_type": "markdown",
   "metadata": {},
   "source": [
    "El objetivo último de esta fase es realizar el despliegue de los resultados obtenidos de forma que sea propagado a los usuarios finales así como el mantenimiento del mismo una vez el despliegue haya finalizado.\n",
    "\n",
    "En esta fase deberemos ser capaces de:\n",
    "\n",
    "Diseñar un plan de despliegue de modelos y conocimiento sobre nuestra organización.\n",
    "Realizar seguimiento y mantenimiento de la parte más operativa del despliegue.\n",
    "Revisar el proyecto en su globalidad con el objetivo de identiﬁcar lecciones aprendidas.\n",
    "Siguiendo con nuestro ejemplo el despliegue de la solución implicaría tareas como:\n",
    "\n",
    "Implantación de un sistema de captura digital de la imagen de anatomía patológica.\n",
    "Implantación de software de clasificación automática de tejidos de cáncer de mama.\n",
    "Integración con el software del laboratorio de anatomía patológica.\n",
    "Implantación de nuevos procedimientos operativos del laboratorio de anatomía patológica.\n",
    "Monitorización del funcionamiento del nuevo sistema y grado de adherencia de los usuarios al mismo.\n",
    "Medición del grado de precisión diagnóstica y la eficiencia del laboratorio tras la puesta en marcha del sistema."
   ]
  },
  {
   "cell_type": "markdown",
   "metadata": {},
   "source": [
    "You might have the best model in the world, but if your user/customer could not access the model result, it is useless. This phase might seem too much for a fresher, but if you could build a realistic enough concept, it would score you many points with the company. "
   ]
  },
  {
   "cell_type": "markdown",
   "metadata": {},
   "source": [
    "<a id='d61' />\n",
    "\n",
    "## 6.1 - Deployment \n",
    "[(back to top)](#contents)"
   ]
  },
  {
   "cell_type": "markdown",
   "metadata": {},
   "source": [
    "How would you like to deploy the model? How is the result presented or delivered? Try to plan and document the process."
   ]
  },
  {
   "cell_type": "markdown",
   "metadata": {},
   "source": [
    "<a id='d62' />\n",
    "\n",
    "## 6.2 - Monitoring and maintenance \n",
    "[(back to top)](#contents)"
   ]
  },
  {
   "cell_type": "markdown",
   "metadata": {},
   "source": [
    "What is the monitoring and maintenance plan going to be like? Monitoring the result and maintaining the model quality is as important as any other phase. Businesses don’t want the model to become a burden."
   ]
  },
  {
   "cell_type": "markdown",
   "metadata": {},
   "source": [
    "<a id='d63' />\n",
    "\n",
    "## 6.3 - Final report\n",
    "[(back to top)](#contents)"
   ]
  },
  {
   "cell_type": "markdown",
   "metadata": {},
   "source": [
    "Conclude the project by creating the summary report, create the presentation, and try to present it to someone you know."
   ]
  },
  {
   "cell_type": "markdown",
   "metadata": {},
   "source": [
    "<a id='d64' />\n",
    "\n",
    "## 6.4 - Review \n",
    "[(back to top)](#contents)"
   ]
  },
  {
   "cell_type": "markdown",
   "metadata": {},
   "source": [
    "Review the project by thinking about what is good, what you could improve, and what you think is lacking. Determine if the project needs more iteration or only needs frequent maintenance."
   ]
  },
  {
   "cell_type": "markdown",
   "metadata": {},
   "source": [
    "---"
   ]
  },
  {
   "cell_type": "markdown",
   "metadata": {
    "tags": []
   },
   "source": [
    "#### *References*"
   ]
  },
  {
   "cell_type": "markdown",
   "metadata": {},
   "source": [
    "* https://towardsdatascience.com/crisp-dm-methodology-for-your-first-data-science-project-769f35e0346c"
   ]
  },
  {
   "cell_type": "markdown",
   "metadata": {},
   "source": [
    "* https://www.datascience-pm.com/crisp-dm-2/"
   ]
  },
  {
   "cell_type": "markdown",
   "metadata": {},
   "source": [
    "* https://medium.com/@eiki1212/eda-data-mining-workflow-for-data-science-82b70d67f4ac"
   ]
  },
  {
   "cell_type": "code",
   "execution_count": null,
   "metadata": {},
   "outputs": [],
   "source": []
  }
 ],
 "metadata": {
  "kernelspec": {
   "display_name": "Python 3 (ipykernel)",
   "language": "python",
   "name": "python3"
  },
  "language_info": {
   "codemirror_mode": {
    "name": "ipython",
    "version": 3
   },
   "file_extension": ".py",
   "mimetype": "text/x-python",
   "name": "python",
   "nbconvert_exporter": "python",
   "pygments_lexer": "ipython3",
   "version": "3.8.12"
  },
  "varInspector": {
   "cols": {
    "lenName": 16,
    "lenType": 16,
    "lenVar": 40
   },
   "kernels_config": {
    "python": {
     "delete_cmd_postfix": "",
     "delete_cmd_prefix": "del ",
     "library": "var_list.py",
     "varRefreshCmd": "print(var_dic_list())"
    },
    "r": {
     "delete_cmd_postfix": ") ",
     "delete_cmd_prefix": "rm(",
     "library": "var_list.r",
     "varRefreshCmd": "cat(var_dic_list()) "
    }
   },
   "types_to_exclude": [
    "module",
    "function",
    "builtin_function_or_method",
    "instance",
    "_Feature"
   ],
   "window_display": false
  }
 },
 "nbformat": 4,
 "nbformat_minor": 4
}
