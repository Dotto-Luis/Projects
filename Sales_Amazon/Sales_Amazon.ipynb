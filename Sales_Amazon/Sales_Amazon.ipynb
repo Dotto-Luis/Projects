{
 "cells": [
  {
   "cell_type": "markdown",
   "source": [
    "# Sales_Amazon\n",
    "\n",
    "Importamos librerias\n",
    "```\n",
    "import pandas as pd\n",
    "import os\n",
    "```\n",
    "\n",
    "Esploramos cada archivo, la idea es unir los 12 meses.\n",
    "```\n",
    "#df = pd.read_csv(\"Sales_April_2019.csv\")\n",
    "#df.head()\n",
    "```\n",
    "\n",
    "\n",
    "Merge\n",
    "```\n",
    "df = pd.read_csv(\"Sales_June_2019.csv\")\n",
    "\n",
    "files = [file for file in os.listdir('./Sales_Data')]\n",
    "\n",
    "all_months_data = pd.DataFrame()\n",
    "\n",
    "for file in files:\n",
    "    df = pd.read_csv(\"./Sales_Data\"+file)\n",
    "    all_months_data = pd.concat(all_months_data, df)\n",
    "\n",
    "all_months_data.to_csv(\"all_data_csv\", index=False)\n",
    "```"
   ],
   "metadata": {
    "collapsed": false
   }
  }
 ],
 "metadata": {
  "kernelspec": {
   "display_name": "Python 3",
   "language": "python",
   "name": "python3"
  },
  "language_info": {
   "codemirror_mode": {
    "name": "ipython",
    "version": 2
   },
   "file_extension": ".py",
   "mimetype": "text/x-python",
   "name": "python",
   "nbconvert_exporter": "python",
   "pygments_lexer": "ipython2",
   "version": "2.7.6"
  }
 },
 "nbformat": 4,
 "nbformat_minor": 0
}