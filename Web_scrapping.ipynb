{
  "nbformat": 4,
  "nbformat_minor": 0,
  "metadata": {
    "colab": {
      "name": "Web_scrapping.ipynb",
      "provenance": [],
      "collapsed_sections": [],
      "authorship_tag": "ABX9TyMfbHHo/QqyxqWNSW9MkFbJ",
      "include_colab_link": true
    },
    "kernelspec": {
      "name": "python3",
      "display_name": "Python 3"
    },
    "language_info": {
      "name": "python"
    }
  },
  "cells": [
    {
      "cell_type": "markdown",
      "metadata": {
        "id": "view-in-github",
        "colab_type": "text"
      },
      "source": [
        "<a href=\"https://colab.research.google.com/github/Dotto-Luis/Projects/blob/main/Web_scrapping.ipynb\" target=\"_parent\"><img src=\"https://colab.research.google.com/assets/colab-badge.svg\" alt=\"Open In Colab\"/></a>"
      ]
    },
    {
      "cell_type": "markdown",
      "source": [
        "# **1.INSPECCIONAR WEB - VER ESTRUCTURA HTLM**\n",
        "- ** objetivo: explorar la estructura de la informacion para analizar el proceso de extraccion**"
      ],
      "metadata": {
        "id": "nt5ohimC-yfg"
      }
    },
    {
      "cell_type": "code",
      "source": [
        "import requests\n",
        "from bs4 import BeautifulSoup #para parsear el codigo htlm (identificar partes utiles dentro del codigo)\n",
        "import pandas as pd"
      ],
      "metadata": {
        "id": "k1A4G0CxBYjW"
      },
      "execution_count": 125,
      "outputs": []
    },
    {
      "cell_type": "code",
      "source": [
        "url = 'https://dolarhistorico.com/cotizacion-dolar-blue'\n",
        "usd = requests.get(url)"
      ],
      "metadata": {
        "id": "xzAuErdOAnUT"
      },
      "execution_count": 126,
      "outputs": []
    },
    {
      "cell_type": "code",
      "source": [
        "s = BeautifulSoup(usd.text, 'lxml')"
      ],
      "metadata": {
        "id": "KVAjb676B0c_"
      },
      "execution_count": 127,
      "outputs": []
    },
    {
      "cell_type": "code",
      "source": [
        "#print(usd.text)\n",
        "#print(s.prettify)"
      ],
      "metadata": {
        "id": "VVpavXB_BjEk"
      },
      "execution_count": 128,
      "outputs": []
    },
    {
      "cell_type": "markdown",
      "source": [
        "## 1b. IMPORTAR WEB DE ARCHIVO .HTLM\n",
        "- ** objetivo: no depender de una conexion a internet**"
      ],
      "metadata": {
        "id": "yRWcN8tVAOLB"
      }
    },
    {
      "cell_type": "code",
      "source": [
        "#from google.colab import drive\n",
        "#import os\n",
        "#drive.mount('/content/gdrive')\n",
        "#print(os.getcwd())\n",
        "#os.chdir(\"/content/gdrive/My Drive\")"
      ],
      "metadata": {
        "id": "cmjR0jxWBDpp"
      },
      "execution_count": 31,
      "outputs": []
    },
    {
      "cell_type": "markdown",
      "source": [
        "---\n",
        "# **2.PROCESAR HTML PARA OBTENER EL CODIGO RELEVANTE**\n",
        "**objetivo: limpiar codigo htlm y obtener los datos relevantes**\n"
      ],
      "metadata": {
        "id": "6W_3ASq5prc-"
      }
    },
    {
      "cell_type": "markdown",
      "source": [
        "Como la url principal tiene el mismo formato que las url secundarias, podemos utilizar el link de la web principal para obtener la info de las web secundarias, para esto se crean listas con anios y meses. Luego generamos las url de los meses faltantes con un ciclo for.\n",
        "\n",
        "Buscamos ir de lo macro a lo micro. Primero desglosando la web principal y luego desglosando las web con la cotizacion de cada mes.\n",
        "\n",
        "\n",
        "1. Obtener urls de los meses que contienen las tablas con las cotizaciones\n",
        "2. Hacer request de cada url obtenida para ver como obtener la info de las tablas.\n",
        "\n",
        "\n",
        "\n"
      ],
      "metadata": {
        "id": "MiGsyRVACtnR"
      }
    },
    {
      "cell_type": "code",
      "source": [
        "url_base = 'https://dolarhistorico.com/cotizacion-dolar-blue/mes/'\n",
        "meses = ['enero','febrero','marzo','abril','mayo','junio','julio','agosto','septiembre','octubre','noviembre','diciembre']\n",
        "anios = ['2021'] #anios = ['2011','2012','2013','2014','2015','2016','2017','2018','2019','2020','2021','2022']"
      ],
      "metadata": {
        "id": "2SAy4T2tg7Ep"
      },
      "execution_count": 129,
      "outputs": []
    },
    {
      "cell_type": "code",
      "source": [
        "for x in range(len(meses)):\n",
        "  if meses[x] != 'distinto':\n",
        "    meses[x] = url_base+meses[x]+'-'+anios[0]\n",
        "\n",
        "    #objetivo: poder obtener las cotizaciones usd de todos los meses de todos los anios que se encuentran en formato tabla"
      ],
      "metadata": {
        "id": "DvyAaLvjjuGh"
      },
      "execution_count": 130,
      "outputs": []
    },
    {
      "cell_type": "code",
      "source": [
        "meses"
      ],
      "metadata": {
        "colab": {
          "base_uri": "https://localhost:8080/"
        },
        "id": "e5pSE2I_hzQ2",
        "outputId": "98b4340a-7c5c-4db8-c437-f7a4d4f4a639"
      },
      "execution_count": 131,
      "outputs": [
        {
          "output_type": "execute_result",
          "data": {
            "text/plain": [
              "['https://dolarhistorico.com/cotizacion-dolar-blue/mes/enero-2021',\n",
              " 'https://dolarhistorico.com/cotizacion-dolar-blue/mes/febrero-2021',\n",
              " 'https://dolarhistorico.com/cotizacion-dolar-blue/mes/marzo-2021',\n",
              " 'https://dolarhistorico.com/cotizacion-dolar-blue/mes/abril-2021',\n",
              " 'https://dolarhistorico.com/cotizacion-dolar-blue/mes/mayo-2021',\n",
              " 'https://dolarhistorico.com/cotizacion-dolar-blue/mes/junio-2021',\n",
              " 'https://dolarhistorico.com/cotizacion-dolar-blue/mes/julio-2021',\n",
              " 'https://dolarhistorico.com/cotizacion-dolar-blue/mes/agosto-2021',\n",
              " 'https://dolarhistorico.com/cotizacion-dolar-blue/mes/septiembre-2021',\n",
              " 'https://dolarhistorico.com/cotizacion-dolar-blue/mes/octubre-2021',\n",
              " 'https://dolarhistorico.com/cotizacion-dolar-blue/mes/noviembre-2021',\n",
              " 'https://dolarhistorico.com/cotizacion-dolar-blue/mes/diciembre-2021']"
            ]
          },
          "metadata": {},
          "execution_count": 131
        }
      ]
    },
    {
      "cell_type": "code",
      "source": [
        "Ene_2021 = meses[0]\n",
        "Ene_2021"
      ],
      "metadata": {
        "colab": {
          "base_uri": "https://localhost:8080/",
          "height": 35
        },
        "id": "4aUdxx15rCKG",
        "outputId": "28241515-141f-4cab-e9ee-9ee9af0fab97"
      },
      "execution_count": 132,
      "outputs": [
        {
          "output_type": "execute_result",
          "data": {
            "application/vnd.google.colaboratory.intrinsic+json": {
              "type": "string"
            },
            "text/plain": [
              "'https://dolarhistorico.com/cotizacion-dolar-blue/mes/enero-2021'"
            ]
          },
          "metadata": {},
          "execution_count": 132
        }
      ]
    },
    {
      "cell_type": "code",
      "source": [
        "R_Ene_2021 = requests.get(Ene_2021) #hacemos un request de un mes y un anio en particular"
      ],
      "metadata": {
        "id": "MB4cSKSLsGhQ"
      },
      "execution_count": 133,
      "outputs": []
    },
    {
      "cell_type": "code",
      "source": [
        "#print(Enero_2021.text) #vemos la estructura del codigo htlm de esta web particular"
      ],
      "metadata": {
        "id": "MzGCZjMctTcz"
      },
      "execution_count": 134,
      "outputs": []
    },
    {
      "cell_type": "code",
      "source": [
        "ene = BeautifulSoup(R_Ene_2021.text, 'lxml') #parseamos la estructura del codigo html"
      ],
      "metadata": {
        "id": "tJvpt17RtYpm"
      },
      "execution_count": 135,
      "outputs": []
    },
    {
      "cell_type": "code",
      "source": [
        "#print(ene.prettify())"
      ],
      "metadata": {
        "id": "F_gy5lquvBJz"
      },
      "execution_count": 13,
      "outputs": []
    },
    {
      "cell_type": "code",
      "source": [
        "Ene2021 = ene.find('table').find_all('td') #buscamos la tabla donde esta la info que queremos\n",
        "#tabla"
      ],
      "metadata": {
        "id": "JDYiPla2vIgj"
      },
      "execution_count": 136,
      "outputs": []
    },
    {
      "cell_type": "markdown",
      "source": [
        "Ya pudimos obtener la info de la tabla de un mes particular, ahora veamos como extraer los datos relevantes: fecha y precio de compra y venta de la tabla. Estos son los datos que queremos luego volcar en una tabla o dataframe"
      ],
      "metadata": {
        "id": "J6acKTB5FugZ"
      }
    },
    {
      "cell_type": "code",
      "source": [
        "type(Ene2021)"
      ],
      "metadata": {
        "colab": {
          "base_uri": "https://localhost:8080/"
        },
        "id": "Znzhu3tcL4ZU",
        "outputId": "085bb55e-0f6a-4654-eea3-4800af2d94da"
      },
      "execution_count": 137,
      "outputs": [
        {
          "output_type": "execute_result",
          "data": {
            "text/plain": [
              "bs4.element.ResultSet"
            ]
          },
          "metadata": {},
          "execution_count": 137
        }
      ]
    },
    {
      "cell_type": "code",
      "source": [
        "n =+ 1\n",
        "dia1 = Ene2021[0].text\n",
        "dia2 = Ene2021[1].text\n",
        "dia3 = Ene2021[2].text"
      ],
      "metadata": {
        "id": "bi_Ubi-twDxw"
      },
      "execution_count": 138,
      "outputs": []
    },
    {
      "cell_type": "code",
      "source": [
        "print(dia1)\n",
        "print(dia2)\n",
        "print(dia3)"
      ],
      "metadata": {
        "colab": {
          "base_uri": "https://localhost:8080/"
        },
        "id": "9w_DBPmIqQMM",
        "outputId": "fee3824a-5da4-4f0d-c09c-572e8b1905c6"
      },
      "execution_count": 139,
      "outputs": [
        {
          "output_type": "stream",
          "name": "stdout",
          "text": [
            "04/01/2021\n",
            "159,00\n",
            "165,00\n"
          ]
        }
      ]
    },
    {
      "cell_type": "code",
      "source": [
        "list = []\n",
        "\n",
        "for i in Ene2021:\n",
        "    list+=i.text.split()\n",
        "print(list)"
      ],
      "metadata": {
        "colab": {
          "base_uri": "https://localhost:8080/"
        },
        "id": "jdtQfFpEsFX3",
        "outputId": "82d344f1-4fa7-4eda-dffc-a1eaa870c00d"
      },
      "execution_count": 140,
      "outputs": [
        {
          "output_type": "stream",
          "name": "stdout",
          "text": [
            "['04/01/2021', '159,00', '165,00', '-0,61%', '05/01/2021', '154,00', '160,00', '-3,13%', '06/01/2021', '154,00', '160,00', '0,00%', '07/01/2021', '156,00', '162,00', '1,23%', '08/01/2021', '156,00', '162,00', '0,00%', '11/01/2021', '155,00', '161,00', '-0,62%', '12/01/2021', '153,00', '159,00', '-1,26%', '13/01/2021', '153,00', '159,00', '0,00%', '14/01/2021', '153,00', '159,00', '0,00%', '15/01/2021', '153,00', '159,00', '0,00%', '18/01/2021', '153,00', '159,00', '0,00%', '19/01/2021', '152,00', '157,00', '-1,27%', '20/01/2021', '151,00', '156,00', '-0,64%', '21/01/2021', '151,00', '156,00', '0,00%', '22/01/2021', '151,00', '156,00', '0,00%', '25/01/2021', '151,00', '156,00', '0,00%', '26/01/2021', '151,00', '156,00', '0,00%', '27/01/2021', '151,00', '156,00', '0,00%', '28/01/2021', '149,00', '154,00', '-1,30%', '29/01/2021', '150,00', '155,00', '0,65%']\n"
          ]
        }
      ]
    },
    {
      "cell_type": "code",
      "source": [
        "Fecha01,Precio_Compra,Precio_Venta,Variacion = [],[],[],[]"
      ],
      "metadata": {
        "id": "g7FDDm7u4JMJ"
      },
      "execution_count": 141,
      "outputs": []
    },
    {
      "cell_type": "code",
      "source": [
        "Fecha01 = list[0:len(list):4]\n",
        "Precio_Compra = list[1:len(list):4]\n",
        "Precio_Venta = list[2:len(list):4]\n",
        "Variacion = list[3:len(list):4]"
      ],
      "metadata": {
        "id": "o3e0UpHa5WRy"
      },
      "execution_count": 142,
      "outputs": []
    },
    {
      "cell_type": "code",
      "source": [
        "dicc = { \n",
        "    'Fecha_Cotizacion': Fecha01,\n",
        "    'Precio_Compra': Precio_Compra,\n",
        "    'Precio_Venta': Precio_Venta,\n",
        "    'Variacion': Variacion\n",
        "}"
      ],
      "metadata": {
        "id": "3Xil2U9e1Cl_"
      },
      "execution_count": 143,
      "outputs": []
    },
    {
      "cell_type": "code",
      "source": [
        "#dicc"
      ],
      "metadata": {
        "id": "8hNFqlCN1oJ3"
      },
      "execution_count": 124,
      "outputs": []
    },
    {
      "cell_type": "code",
      "source": [
        ""
      ],
      "metadata": {
        "colab": {
          "base_uri": "https://localhost:8080/"
        },
        "id": "nK6pWQX32DaK",
        "outputId": "fbdc90e6-e25f-4f02-cb0e-48857bf83b09"
      },
      "execution_count": 144,
      "outputs": [
        {
          "output_type": "stream",
          "name": "stdout",
          "text": [
            "   Fecha_Cotizacion Precio_Compra Precio_Venta Variacion\n",
            "0        04/01/2021        159,00       165,00    -0,61%\n",
            "1        05/01/2021        154,00       160,00    -3,13%\n",
            "2        06/01/2021        154,00       160,00     0,00%\n",
            "3        07/01/2021        156,00       162,00     1,23%\n",
            "4        08/01/2021        156,00       162,00     0,00%\n",
            "5        11/01/2021        155,00       161,00    -0,62%\n",
            "6        12/01/2021        153,00       159,00    -1,26%\n",
            "7        13/01/2021        153,00       159,00     0,00%\n",
            "8        14/01/2021        153,00       159,00     0,00%\n",
            "9        15/01/2021        153,00       159,00     0,00%\n",
            "10       18/01/2021        153,00       159,00     0,00%\n",
            "11       19/01/2021        152,00       157,00    -1,27%\n",
            "12       20/01/2021        151,00       156,00    -0,64%\n",
            "13       21/01/2021        151,00       156,00     0,00%\n",
            "14       22/01/2021        151,00       156,00     0,00%\n",
            "15       25/01/2021        151,00       156,00     0,00%\n",
            "16       26/01/2021        151,00       156,00     0,00%\n",
            "17       27/01/2021        151,00       156,00     0,00%\n",
            "18       28/01/2021        149,00       154,00    -1,30%\n",
            "19       29/01/2021        150,00       155,00     0,65%\n"
          ]
        }
      ]
    },
    {
      "cell_type": "markdown",
      "source": [
        "vemos que invocando al primer elemento de la tabla y convirtiendolo en texto ya extraemos la informacion que queremos. Ahora la pregunta es Como hacemos para extraer todos los elementos de la tabla? podriamos crear un bucle for con un contador..."
      ],
      "metadata": {
        "id": "gsi3VehYH7U1"
      }
    },
    {
      "cell_type": "markdown",
      "source": [
        "---\n",
        "# **3.GUARDAR LA INFORMACION EN UN DATAFRAME**\n",
        "**objetivo: dataframe o espacio de memoria en caso de que se caiga la pagina a la cual le hacemos request**\n"
      ],
      "metadata": {
        "id": "j4S71jLbDtX1"
      }
    },
    {
      "cell_type": "code",
      "source": [
        "df = pd.DataFrame(dicc, columns =['Fecha_Cotizacion','Precio_Compra','Precio_Venta','Variacion'])\n",
        "print(df)"
      ],
      "metadata": {
        "colab": {
          "base_uri": "https://localhost:8080/"
        },
        "id": "z0kKT-OSszLX",
        "outputId": "46a8b624-6f59-4e0a-c62d-2dbdab33f8d3"
      },
      "execution_count": 149,
      "outputs": [
        {
          "output_type": "stream",
          "name": "stdout",
          "text": [
            "   Fecha_Cotizacion Precio_Compra Precio_Venta Variacion\n",
            "0        04/01/2021        159,00       165,00    -0,61%\n",
            "1        05/01/2021        154,00       160,00    -3,13%\n",
            "2        06/01/2021        154,00       160,00     0,00%\n",
            "3        07/01/2021        156,00       162,00     1,23%\n",
            "4        08/01/2021        156,00       162,00     0,00%\n",
            "5        11/01/2021        155,00       161,00    -0,62%\n",
            "6        12/01/2021        153,00       159,00    -1,26%\n",
            "7        13/01/2021        153,00       159,00     0,00%\n",
            "8        14/01/2021        153,00       159,00     0,00%\n",
            "9        15/01/2021        153,00       159,00     0,00%\n",
            "10       18/01/2021        153,00       159,00     0,00%\n",
            "11       19/01/2021        152,00       157,00    -1,27%\n",
            "12       20/01/2021        151,00       156,00    -0,64%\n",
            "13       21/01/2021        151,00       156,00     0,00%\n",
            "14       22/01/2021        151,00       156,00     0,00%\n",
            "15       25/01/2021        151,00       156,00     0,00%\n",
            "16       26/01/2021        151,00       156,00     0,00%\n",
            "17       27/01/2021        151,00       156,00     0,00%\n",
            "18       28/01/2021        149,00       154,00    -1,30%\n",
            "19       29/01/2021        150,00       155,00     0,65%\n"
          ]
        }
      ]
    },
    {
      "cell_type": "code",
      "source": [
        "df['Fecha_Cotizacion'] = pd.to_datetime(df['Fecha_Cotizacion'])\n",
        "df"
      ],
      "metadata": {
        "colab": {
          "base_uri": "https://localhost:8080/",
          "height": 677
        },
        "id": "l_oE7hjZHlDX",
        "outputId": "642c2440-3ba0-4eac-c41e-35398cff6313"
      },
      "execution_count": 184,
      "outputs": [
        {
          "output_type": "execute_result",
          "data": {
            "text/html": [
              "\n",
              "  <div id=\"df-7c859095-390d-494d-b646-afa0f7f78b2f\">\n",
              "    <div class=\"colab-df-container\">\n",
              "      <div>\n",
              "<style scoped>\n",
              "    .dataframe tbody tr th:only-of-type {\n",
              "        vertical-align: middle;\n",
              "    }\n",
              "\n",
              "    .dataframe tbody tr th {\n",
              "        vertical-align: top;\n",
              "    }\n",
              "\n",
              "    .dataframe thead th {\n",
              "        text-align: right;\n",
              "    }\n",
              "</style>\n",
              "<table border=\"1\" class=\"dataframe\">\n",
              "  <thead>\n",
              "    <tr style=\"text-align: right;\">\n",
              "      <th></th>\n",
              "      <th>Fecha_Cotizacion</th>\n",
              "      <th>Precio_Compra</th>\n",
              "      <th>Precio_Venta</th>\n",
              "      <th>Variacion</th>\n",
              "    </tr>\n",
              "  </thead>\n",
              "  <tbody>\n",
              "    <tr>\n",
              "      <th>0</th>\n",
              "      <td>2021-04-01</td>\n",
              "      <td>159,00</td>\n",
              "      <td>165,00</td>\n",
              "      <td>-0,61%</td>\n",
              "    </tr>\n",
              "    <tr>\n",
              "      <th>1</th>\n",
              "      <td>2021-05-01</td>\n",
              "      <td>154,00</td>\n",
              "      <td>160,00</td>\n",
              "      <td>-3,13%</td>\n",
              "    </tr>\n",
              "    <tr>\n",
              "      <th>2</th>\n",
              "      <td>2021-06-01</td>\n",
              "      <td>154,00</td>\n",
              "      <td>160,00</td>\n",
              "      <td>0,00%</td>\n",
              "    </tr>\n",
              "    <tr>\n",
              "      <th>3</th>\n",
              "      <td>2021-07-01</td>\n",
              "      <td>156,00</td>\n",
              "      <td>162,00</td>\n",
              "      <td>1,23%</td>\n",
              "    </tr>\n",
              "    <tr>\n",
              "      <th>4</th>\n",
              "      <td>2021-08-01</td>\n",
              "      <td>156,00</td>\n",
              "      <td>162,00</td>\n",
              "      <td>0,00%</td>\n",
              "    </tr>\n",
              "    <tr>\n",
              "      <th>5</th>\n",
              "      <td>2021-11-01</td>\n",
              "      <td>155,00</td>\n",
              "      <td>161,00</td>\n",
              "      <td>-0,62%</td>\n",
              "    </tr>\n",
              "    <tr>\n",
              "      <th>6</th>\n",
              "      <td>2021-12-01</td>\n",
              "      <td>153,00</td>\n",
              "      <td>159,00</td>\n",
              "      <td>-1,26%</td>\n",
              "    </tr>\n",
              "    <tr>\n",
              "      <th>7</th>\n",
              "      <td>2021-01-13</td>\n",
              "      <td>153,00</td>\n",
              "      <td>159,00</td>\n",
              "      <td>0,00%</td>\n",
              "    </tr>\n",
              "    <tr>\n",
              "      <th>8</th>\n",
              "      <td>2021-01-14</td>\n",
              "      <td>153,00</td>\n",
              "      <td>159,00</td>\n",
              "      <td>0,00%</td>\n",
              "    </tr>\n",
              "    <tr>\n",
              "      <th>9</th>\n",
              "      <td>2021-01-15</td>\n",
              "      <td>153,00</td>\n",
              "      <td>159,00</td>\n",
              "      <td>0,00%</td>\n",
              "    </tr>\n",
              "    <tr>\n",
              "      <th>10</th>\n",
              "      <td>2021-01-18</td>\n",
              "      <td>153,00</td>\n",
              "      <td>159,00</td>\n",
              "      <td>0,00%</td>\n",
              "    </tr>\n",
              "    <tr>\n",
              "      <th>11</th>\n",
              "      <td>2021-01-19</td>\n",
              "      <td>152,00</td>\n",
              "      <td>157,00</td>\n",
              "      <td>-1,27%</td>\n",
              "    </tr>\n",
              "    <tr>\n",
              "      <th>12</th>\n",
              "      <td>2021-01-20</td>\n",
              "      <td>151,00</td>\n",
              "      <td>156,00</td>\n",
              "      <td>-0,64%</td>\n",
              "    </tr>\n",
              "    <tr>\n",
              "      <th>13</th>\n",
              "      <td>2021-01-21</td>\n",
              "      <td>151,00</td>\n",
              "      <td>156,00</td>\n",
              "      <td>0,00%</td>\n",
              "    </tr>\n",
              "    <tr>\n",
              "      <th>14</th>\n",
              "      <td>2021-01-22</td>\n",
              "      <td>151,00</td>\n",
              "      <td>156,00</td>\n",
              "      <td>0,00%</td>\n",
              "    </tr>\n",
              "    <tr>\n",
              "      <th>15</th>\n",
              "      <td>2021-01-25</td>\n",
              "      <td>151,00</td>\n",
              "      <td>156,00</td>\n",
              "      <td>0,00%</td>\n",
              "    </tr>\n",
              "    <tr>\n",
              "      <th>16</th>\n",
              "      <td>2021-01-26</td>\n",
              "      <td>151,00</td>\n",
              "      <td>156,00</td>\n",
              "      <td>0,00%</td>\n",
              "    </tr>\n",
              "    <tr>\n",
              "      <th>17</th>\n",
              "      <td>2021-01-27</td>\n",
              "      <td>151,00</td>\n",
              "      <td>156,00</td>\n",
              "      <td>0,00%</td>\n",
              "    </tr>\n",
              "    <tr>\n",
              "      <th>18</th>\n",
              "      <td>2021-01-28</td>\n",
              "      <td>149,00</td>\n",
              "      <td>154,00</td>\n",
              "      <td>-1,30%</td>\n",
              "    </tr>\n",
              "    <tr>\n",
              "      <th>19</th>\n",
              "      <td>2021-01-29</td>\n",
              "      <td>150,00</td>\n",
              "      <td>155,00</td>\n",
              "      <td>0,65%</td>\n",
              "    </tr>\n",
              "  </tbody>\n",
              "</table>\n",
              "</div>\n",
              "      <button class=\"colab-df-convert\" onclick=\"convertToInteractive('df-7c859095-390d-494d-b646-afa0f7f78b2f')\"\n",
              "              title=\"Convert this dataframe to an interactive table.\"\n",
              "              style=\"display:none;\">\n",
              "        \n",
              "  <svg xmlns=\"http://www.w3.org/2000/svg\" height=\"24px\"viewBox=\"0 0 24 24\"\n",
              "       width=\"24px\">\n",
              "    <path d=\"M0 0h24v24H0V0z\" fill=\"none\"/>\n",
              "    <path d=\"M18.56 5.44l.94 2.06.94-2.06 2.06-.94-2.06-.94-.94-2.06-.94 2.06-2.06.94zm-11 1L8.5 8.5l.94-2.06 2.06-.94-2.06-.94L8.5 2.5l-.94 2.06-2.06.94zm10 10l.94 2.06.94-2.06 2.06-.94-2.06-.94-.94-2.06-.94 2.06-2.06.94z\"/><path d=\"M17.41 7.96l-1.37-1.37c-.4-.4-.92-.59-1.43-.59-.52 0-1.04.2-1.43.59L10.3 9.45l-7.72 7.72c-.78.78-.78 2.05 0 2.83L4 21.41c.39.39.9.59 1.41.59.51 0 1.02-.2 1.41-.59l7.78-7.78 2.81-2.81c.8-.78.8-2.07 0-2.86zM5.41 20L4 18.59l7.72-7.72 1.47 1.35L5.41 20z\"/>\n",
              "  </svg>\n",
              "      </button>\n",
              "      \n",
              "  <style>\n",
              "    .colab-df-container {\n",
              "      display:flex;\n",
              "      flex-wrap:wrap;\n",
              "      gap: 12px;\n",
              "    }\n",
              "\n",
              "    .colab-df-convert {\n",
              "      background-color: #E8F0FE;\n",
              "      border: none;\n",
              "      border-radius: 50%;\n",
              "      cursor: pointer;\n",
              "      display: none;\n",
              "      fill: #1967D2;\n",
              "      height: 32px;\n",
              "      padding: 0 0 0 0;\n",
              "      width: 32px;\n",
              "    }\n",
              "\n",
              "    .colab-df-convert:hover {\n",
              "      background-color: #E2EBFA;\n",
              "      box-shadow: 0px 1px 2px rgba(60, 64, 67, 0.3), 0px 1px 3px 1px rgba(60, 64, 67, 0.15);\n",
              "      fill: #174EA6;\n",
              "    }\n",
              "\n",
              "    [theme=dark] .colab-df-convert {\n",
              "      background-color: #3B4455;\n",
              "      fill: #D2E3FC;\n",
              "    }\n",
              "\n",
              "    [theme=dark] .colab-df-convert:hover {\n",
              "      background-color: #434B5C;\n",
              "      box-shadow: 0px 1px 3px 1px rgba(0, 0, 0, 0.15);\n",
              "      filter: drop-shadow(0px 1px 2px rgba(0, 0, 0, 0.3));\n",
              "      fill: #FFFFFF;\n",
              "    }\n",
              "  </style>\n",
              "\n",
              "      <script>\n",
              "        const buttonEl =\n",
              "          document.querySelector('#df-7c859095-390d-494d-b646-afa0f7f78b2f button.colab-df-convert');\n",
              "        buttonEl.style.display =\n",
              "          google.colab.kernel.accessAllowed ? 'block' : 'none';\n",
              "\n",
              "        async function convertToInteractive(key) {\n",
              "          const element = document.querySelector('#df-7c859095-390d-494d-b646-afa0f7f78b2f');\n",
              "          const dataTable =\n",
              "            await google.colab.kernel.invokeFunction('convertToInteractive',\n",
              "                                                     [key], {});\n",
              "          if (!dataTable) return;\n",
              "\n",
              "          const docLinkHtml = 'Like what you see? Visit the ' +\n",
              "            '<a target=\"_blank\" href=https://colab.research.google.com/notebooks/data_table.ipynb>data table notebook</a>'\n",
              "            + ' to learn more about interactive tables.';\n",
              "          element.innerHTML = '';\n",
              "          dataTable['output_type'] = 'display_data';\n",
              "          await google.colab.output.renderOutput(dataTable, element);\n",
              "          const docLink = document.createElement('div');\n",
              "          docLink.innerHTML = docLinkHtml;\n",
              "          element.appendChild(docLink);\n",
              "        }\n",
              "      </script>\n",
              "    </div>\n",
              "  </div>\n",
              "  "
            ],
            "text/plain": [
              "   Fecha_Cotizacion Precio_Compra Precio_Venta Variacion\n",
              "0        2021-04-01        159,00       165,00    -0,61%\n",
              "1        2021-05-01        154,00       160,00    -3,13%\n",
              "2        2021-06-01        154,00       160,00     0,00%\n",
              "3        2021-07-01        156,00       162,00     1,23%\n",
              "4        2021-08-01        156,00       162,00     0,00%\n",
              "5        2021-11-01        155,00       161,00    -0,62%\n",
              "6        2021-12-01        153,00       159,00    -1,26%\n",
              "7        2021-01-13        153,00       159,00     0,00%\n",
              "8        2021-01-14        153,00       159,00     0,00%\n",
              "9        2021-01-15        153,00       159,00     0,00%\n",
              "10       2021-01-18        153,00       159,00     0,00%\n",
              "11       2021-01-19        152,00       157,00    -1,27%\n",
              "12       2021-01-20        151,00       156,00    -0,64%\n",
              "13       2021-01-21        151,00       156,00     0,00%\n",
              "14       2021-01-22        151,00       156,00     0,00%\n",
              "15       2021-01-25        151,00       156,00     0,00%\n",
              "16       2021-01-26        151,00       156,00     0,00%\n",
              "17       2021-01-27        151,00       156,00     0,00%\n",
              "18       2021-01-28        149,00       154,00    -1,30%\n",
              "19       2021-01-29        150,00       155,00     0,65%"
            ]
          },
          "metadata": {},
          "execution_count": 184
        }
      ]
    },
    {
      "cell_type": "code",
      "source": [
        "df.to_csv('TC_Blue.csv', index = False)\n",
        "#no guarda el archivo en el drive"
      ],
      "metadata": {
        "id": "WmO7N24RMxwa"
      },
      "execution_count": 185,
      "outputs": []
    },
    {
      "cell_type": "code",
      "source": [
        "cat TC_Blue.csv #leer archivo guardado"
      ],
      "metadata": {
        "colab": {
          "base_uri": "https://localhost:8080/"
        },
        "id": "CQ8Is4fIxRnA",
        "outputId": "e2fa94b1-fa55-4844-8f8e-4bed8f4e5044"
      },
      "execution_count": 186,
      "outputs": [
        {
          "output_type": "stream",
          "name": "stdout",
          "text": [
            "Fecha_Cotizacion,Precio_Compra,Precio_Venta,Variacion\n",
            "2021-04-01,\"159,00\",\"165,00\",\"-0,61%\"\n",
            "2021-05-01,\"154,00\",\"160,00\",\"-3,13%\"\n",
            "2021-06-01,\"154,00\",\"160,00\",\"0,00%\"\n",
            "2021-07-01,\"156,00\",\"162,00\",\"1,23%\"\n",
            "2021-08-01,\"156,00\",\"162,00\",\"0,00%\"\n",
            "2021-11-01,\"155,00\",\"161,00\",\"-0,62%\"\n",
            "2021-12-01,\"153,00\",\"159,00\",\"-1,26%\"\n",
            "2021-01-13,\"153,00\",\"159,00\",\"0,00%\"\n",
            "2021-01-14,\"153,00\",\"159,00\",\"0,00%\"\n",
            "2021-01-15,\"153,00\",\"159,00\",\"0,00%\"\n",
            "2021-01-18,\"153,00\",\"159,00\",\"0,00%\"\n",
            "2021-01-19,\"152,00\",\"157,00\",\"-1,27%\"\n",
            "2021-01-20,\"151,00\",\"156,00\",\"-0,64%\"\n",
            "2021-01-21,\"151,00\",\"156,00\",\"0,00%\"\n",
            "2021-01-22,\"151,00\",\"156,00\",\"0,00%\"\n",
            "2021-01-25,\"151,00\",\"156,00\",\"0,00%\"\n",
            "2021-01-26,\"151,00\",\"156,00\",\"0,00%\"\n",
            "2021-01-27,\"151,00\",\"156,00\",\"0,00%\"\n",
            "2021-01-28,\"149,00\",\"154,00\",\"-1,30%\"\n",
            "2021-01-29,\"150,00\",\"155,00\",\"0,65%\"\n"
          ]
        }
      ]
    },
    {
      "cell_type": "markdown",
      "source": [
        "---\n",
        "# **4.VISUALIZAR**\n"
      ],
      "metadata": {
        "id": "FvcS-jQ0Fc0v"
      }
    },
    {
      "cell_type": "code",
      "source": [
        "import seaborn as sns\n",
        "import numpy as np"
      ],
      "metadata": {
        "id": "a0WgHgY_F5ad"
      },
      "execution_count": 187,
      "outputs": []
    },
    {
      "cell_type": "code",
      "source": [
        "#df = pd.DataFrame(dict(time=np.arange(500), value=np.random.randn(500).cumsum()))\n",
        "g = sns.relplot(x=\"Fecha_Cotizacion\", y=\"Precio_Venta\", kind=\"line\", data=df,linewidth=4.5,palette=\"tab10\", height=7, aspect=3.5)\n",
        "g.figure.autofmt_xdate()"
      ],
      "metadata": {
        "colab": {
          "base_uri": "https://localhost:8080/",
          "height": 479
        },
        "id": "uq_gRUtWId53",
        "outputId": "893a1962-ac31-41db-a905-25e834b14db3"
      },
      "execution_count": 190,
      "outputs": [
        {
          "output_type": "display_data",
          "data": {
            "image/png": "[encoded data removed]",
            "text/plain": [
              "<Figure size 1764x504 with 1 Axes>"
            ]
          },
          "metadata": {}
        }
      ]
    },
    {
      "cell_type": "code",
      "source": [
        "from bokeh.plotting import figure, output_file, show"
      ],
      "metadata": {
        "id": "EFk-okToK-qp"
      },
      "execution_count": 195,
      "outputs": []
    },
    {
      "cell_type": "code",
      "source": [
        "x = df['Fecha_Cotizacion']\n",
        "y = df['Precio_Venta']\n",
        "\n",
        "output_file('index.html')\n",
        "\n",
        "p = figure(title='simple example',x_axis_label='X Axis',y_axis_label = 'Y Axis')\n",
        "\n",
        "p.line(x,y,line_width=2)\n",
        "\n",
        "show(p)"
      ],
      "metadata": {
        "id": "CWwOeMw-MKMf"
      },
      "execution_count": 201,
      "outputs": []
    },
    {
      "cell_type": "markdown",
      "source": [
        "---\n",
        "# **5.HACER REQUEST DESDE LA PAGINA ORIGEN, DE DONDE SACA LA INFO LA WEB SCRAPEADA?**\n",
        "**objetivo: independencia de la web scrapeada y actualizar automaticamente de forma constante de acuerdo a las nuevas cotizaciones**\n"
      ],
      "metadata": {
        "id": "2n-EJQ7-D_iq"
      }
    },
    {
      "cell_type": "code",
      "source": [
        ""
      ],
      "metadata": {
        "id": "Mt_ZAwfkFcHz"
      },
      "execution_count": null,
      "outputs": []
    }
  ]
}